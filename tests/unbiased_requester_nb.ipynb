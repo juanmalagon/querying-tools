{
 "cells": [
  {
   "cell_type": "code",
   "execution_count": 1,
   "metadata": {},
   "outputs": [],
   "source": [
    "%rm ../main.log\n",
    "%rm ../dump.json"
   ]
  },
  {
   "cell_type": "code",
   "execution_count": 2,
   "metadata": {},
   "outputs": [],
   "source": [
    "%run ../env_variables.py"
   ]
  },
  {
   "cell_type": "code",
   "execution_count": 3,
   "metadata": {},
   "outputs": [],
   "source": [
    "from resources.examples import mergoni_2021_scopus_query, mergoni_2021_max_date\n",
    "from resources.querying_tools import (\n",
    "    language_bias_tool,\n",
    "    publication_bias_tool,\n",
    "    localization_bias_tool,\n",
    ")\n",
    "from resources.scopus_functions import (\n",
    "    retrieve_results_from_list_of_queries,\n",
    "    columns_to_hide,\n",
    ")\n",
    "import logging"
   ]
  },
  {
   "cell_type": "code",
   "execution_count": 4,
   "metadata": {},
   "outputs": [],
   "source": [
    "# Set up logging\n",
    "# Create logger with 'main'\n",
    "logger = logging.getLogger('main')\n",
    "logger.setLevel(logging.DEBUG)\n",
    "# Create file handler which logs even debug messages\n",
    "fh = logging.FileHandler('main.log')\n",
    "fh.setLevel(logging.DEBUG)\n",
    "# Create console handler with a higher log level\n",
    "ch = logging.StreamHandler()\n",
    "ch.setLevel(logging.ERROR)\n",
    "# Create formatter and add it to the handlers\n",
    "formatter = logging.Formatter(\n",
    "    '%(asctime)s - [%(module)s|%(funcName)s] - %(levelname)s - %(message)s')\n",
    "fh.setFormatter(formatter)\n",
    "ch.setFormatter(formatter)\n",
    "# Add the handlers to the logger\n",
    "logger.addHandler(fh)\n",
    "logger.addHandler(ch)"
   ]
  },
  {
   "cell_type": "code",
   "execution_count": 5,
   "metadata": {},
   "outputs": [],
   "source": [
    "original_query = mergoni_2021_scopus_query\n",
    "max_date = mergoni_2021_max_date"
   ]
  },
  {
   "cell_type": "code",
   "execution_count": 6,
   "metadata": {},
   "outputs": [],
   "source": [
    "def load_data(query, max_date):\n",
    "    data = retrieve_results_from_list_of_queries(\n",
    "        list_of_queries=[query], max_date=max_date\n",
    "    )\n",
    "    return data"
   ]
  },
  {
   "cell_type": "code",
   "execution_count": 7,
   "metadata": {},
   "outputs": [],
   "source": [
    "data_original = load_data(\n",
    "        original_query, max_date\n",
    "        )"
   ]
  },
  {
   "cell_type": "code",
   "execution_count": 8,
   "metadata": {},
   "outputs": [],
   "source": [
    "data_original_to_display = data_original.drop(columns=columns_to_hide)"
   ]
  },
  {
   "cell_type": "code",
   "execution_count": 9,
   "metadata": {},
   "outputs": [],
   "source": [
    "import pandas as pd\n",
    "\n",
    "pd.options.display.max_colwidth = 1_000\n",
    "pd.options.display.max_columns = 1_000"
   ]
  },
  {
   "cell_type": "code",
   "execution_count": 10,
   "metadata": {},
   "outputs": [
    {
     "data": {
      "text/html": [
       "<div>\n",
       "<style scoped>\n",
       "    .dataframe tbody tr th:only-of-type {\n",
       "        vertical-align: middle;\n",
       "    }\n",
       "\n",
       "    .dataframe tbody tr th {\n",
       "        vertical-align: top;\n",
       "    }\n",
       "\n",
       "    .dataframe thead th {\n",
       "        text-align: right;\n",
       "    }\n",
       "</style>\n",
       "<table border=\"1\" class=\"dataframe\">\n",
       "  <thead>\n",
       "    <tr style=\"text-align: right;\">\n",
       "      <th></th>\n",
       "      <th>dc:identifier</th>\n",
       "      <th>dc:title</th>\n",
       "      <th>dc:creator</th>\n",
       "      <th>prism:publicationName</th>\n",
       "      <th>prism:coverDate</th>\n",
       "      <th>prism:aggregationType</th>\n",
       "      <th>subtypeDescription</th>\n",
       "      <th>prism:doi</th>\n",
       "      <th>eid</th>\n",
       "    </tr>\n",
       "  </thead>\n",
       "  <tbody>\n",
       "    <tr>\n",
       "      <th>0</th>\n",
       "      <td>SCOPUS_ID:85094315111</td>\n",
       "      <td>Development and validation of an index to measure agricultural sustainability</td>\n",
       "      <td>Valizadeh N.</td>\n",
       "      <td>Journal of Cleaner Production</td>\n",
       "      <td>2021-01-20</td>\n",
       "      <td>Journal</td>\n",
       "      <td>Article</td>\n",
       "      <td>10.1016/j.jclepro.2020.123797</td>\n",
       "      <td>2-s2.0-85094315111</td>\n",
       "    </tr>\n",
       "    <tr>\n",
       "      <th>1</th>\n",
       "      <td>SCOPUS_ID:85099582835</td>\n",
       "      <td>The impact of airport managerial type and airline market share on airport efficiency</td>\n",
       "      <td>Park J.H.</td>\n",
       "      <td>Sustainability (Switzerland)</td>\n",
       "      <td>2021-01-02</td>\n",
       "      <td>Journal</td>\n",
       "      <td>Article</td>\n",
       "      <td>10.3390/su13020981</td>\n",
       "      <td>2-s2.0-85099582835</td>\n",
       "    </tr>\n",
       "    <tr>\n",
       "      <th>2</th>\n",
       "      <td>SCOPUS_ID:85120998293</td>\n",
       "      <td>Manufacturing enterprise performance using network DEA: A profitability and marketability framework</td>\n",
       "      <td>Hanoum S.</td>\n",
       "      <td>International Journal of Business Excellence</td>\n",
       "      <td>2021-01-01</td>\n",
       "      <td>Journal</td>\n",
       "      <td>Article</td>\n",
       "      <td>10.1504/IJBEX.2021.119457</td>\n",
       "      <td>2-s2.0-85120998293</td>\n",
       "    </tr>\n",
       "    <tr>\n",
       "      <th>3</th>\n",
       "      <td>SCOPUS_ID:85114670899</td>\n",
       "      <td>Regional Variation in the Carbon Dioxide Emission Efficiency of Construction Industry in China: Based on the Three-Stage DEA Model</td>\n",
       "      <td>Zhou W.</td>\n",
       "      <td>Discrete Dynamics in Nature and Society</td>\n",
       "      <td>2021-01-01</td>\n",
       "      <td>Journal</td>\n",
       "      <td>Retracted</td>\n",
       "      <td>10.1155/2021/4021947</td>\n",
       "      <td>2-s2.0-85114670899</td>\n",
       "    </tr>\n",
       "    <tr>\n",
       "      <th>4</th>\n",
       "      <td>SCOPUS_ID:85107945991</td>\n",
       "      <td>Water-energy-food nexus and eco-sustainability: A three-stage dual-boundary network DEA model for evaluating Jiangsu Province in China</td>\n",
       "      <td>Li J.</td>\n",
       "      <td>International Journal of Computational Intelligence Systems</td>\n",
       "      <td>2021-01-01</td>\n",
       "      <td>Journal</td>\n",
       "      <td>Article</td>\n",
       "      <td>10.2991/ijcis.d.210423.005</td>\n",
       "      <td>2-s2.0-85107945991</td>\n",
       "    </tr>\n",
       "  </tbody>\n",
       "</table>\n",
       "</div>"
      ],
      "text/plain": [
       "           dc:identifier  \\\n",
       "0  SCOPUS_ID:85094315111   \n",
       "1  SCOPUS_ID:85099582835   \n",
       "2  SCOPUS_ID:85120998293   \n",
       "3  SCOPUS_ID:85114670899   \n",
       "4  SCOPUS_ID:85107945991   \n",
       "\n",
       "                                                                                                                                 dc:title  \\\n",
       "0                                                           Development and validation of an index to measure agricultural sustainability   \n",
       "1                                                    The impact of airport managerial type and airline market share on airport efficiency   \n",
       "2                                     Manufacturing enterprise performance using network DEA: A profitability and marketability framework   \n",
       "3      Regional Variation in the Carbon Dioxide Emission Efficiency of Construction Industry in China: Based on the Three-Stage DEA Model   \n",
       "4  Water-energy-food nexus and eco-sustainability: A three-stage dual-boundary network DEA model for evaluating Jiangsu Province in China   \n",
       "\n",
       "     dc:creator                                        prism:publicationName  \\\n",
       "0  Valizadeh N.                                Journal of Cleaner Production   \n",
       "1     Park J.H.                                 Sustainability (Switzerland)   \n",
       "2     Hanoum S.                 International Journal of Business Excellence   \n",
       "3       Zhou W.                      Discrete Dynamics in Nature and Society   \n",
       "4         Li J.  International Journal of Computational Intelligence Systems   \n",
       "\n",
       "  prism:coverDate prism:aggregationType subtypeDescription  \\\n",
       "0      2021-01-20               Journal            Article   \n",
       "1      2021-01-02               Journal            Article   \n",
       "2      2021-01-01               Journal            Article   \n",
       "3      2021-01-01               Journal          Retracted   \n",
       "4      2021-01-01               Journal            Article   \n",
       "\n",
       "                       prism:doi                 eid  \n",
       "0  10.1016/j.jclepro.2020.123797  2-s2.0-85094315111  \n",
       "1             10.3390/su13020981  2-s2.0-85099582835  \n",
       "2      10.1504/IJBEX.2021.119457  2-s2.0-85120998293  \n",
       "3           10.1155/2021/4021947  2-s2.0-85114670899  \n",
       "4     10.2991/ijcis.d.210423.005  2-s2.0-85107945991  "
      ]
     },
     "execution_count": 10,
     "metadata": {},
     "output_type": "execute_result"
    }
   ],
   "source": [
    "data_original_to_display.head()"
   ]
  },
  {
   "cell_type": "markdown",
   "metadata": {},
   "source": [
    "## language-bias-tool"
   ]
  },
  {
   "cell_type": "code",
   "execution_count": null,
   "metadata": {},
   "outputs": [],
   "source": [
    "lang_bias_query = language_bias_tool(original_query)\n",
    "pub_bias_query = publication_bias_tool(original_query)"
   ]
  },
  {
   "cell_type": "code",
   "execution_count": null,
   "metadata": {},
   "outputs": [],
   "source": [
    "data_lang = load_data(lang_bias_query, max_date)"
   ]
  },
  {
   "cell_type": "code",
   "execution_count": null,
   "metadata": {},
   "outputs": [],
   "source": [
    "data_lang_diff = data_lang[\n",
    "    ~data_lang['dc:identifier'].isin(\n",
    "        data_original['dc:identifier'])].reset_index(drop=True)"
   ]
  },
  {
   "cell_type": "code",
   "execution_count": null,
   "metadata": {},
   "outputs": [],
   "source": [
    "data_lang_diff_to_display = data_lang_diff.drop(\n",
    "    columns=columns_to_hide)"
   ]
  },
  {
   "cell_type": "code",
   "execution_count": null,
   "metadata": {},
   "outputs": [],
   "source": [
    "data_lang_diff_to_display.head()"
   ]
  },
  {
   "cell_type": "markdown",
   "metadata": {},
   "source": [
    "## publication-bias-tool"
   ]
  },
  {
   "cell_type": "code",
   "execution_count": null,
   "metadata": {},
   "outputs": [],
   "source": [
    "data_pub = load_data(pub_bias_query, max_date)"
   ]
  },
  {
   "cell_type": "code",
   "execution_count": null,
   "metadata": {},
   "outputs": [],
   "source": [
    "data_pub_diff = data_pub[\n",
    "    ~data_pub['dc:identifier'].isin(\n",
    "        data_original['dc:identifier'])].reset_index(drop=True)"
   ]
  },
  {
   "cell_type": "code",
   "execution_count": null,
   "metadata": {},
   "outputs": [],
   "source": [
    "data_pub_diff_to_display = data_pub_diff.drop(\n",
    "    columns=columns_to_hide)"
   ]
  },
  {
   "cell_type": "code",
   "execution_count": null,
   "metadata": {},
   "outputs": [],
   "source": [
    "data_pub_diff_to_display.head()"
   ]
  },
  {
   "cell_type": "markdown",
   "metadata": {},
   "source": [
    "## localization-bias-tool"
   ]
  },
  {
   "cell_type": "code",
   "execution_count": 11,
   "metadata": {},
   "outputs": [],
   "source": [
    "data_localized = localization_bias_tool(original_query, max_date)"
   ]
  },
  {
   "cell_type": "code",
   "execution_count": 12,
   "metadata": {},
   "outputs": [],
   "source": [
    "data_localized_to_display = data_localized.drop(\n",
    "    columns=columns_to_hide)"
   ]
  },
  {
   "cell_type": "code",
   "execution_count": 13,
   "metadata": {},
   "outputs": [
    {
     "data": {
      "text/plain": [
       "(101, 12)"
      ]
     },
     "execution_count": 13,
     "metadata": {},
     "output_type": "execute_result"
    }
   ],
   "source": [
    "data_localized_to_display.shape"
   ]
  },
  {
   "cell_type": "code",
   "execution_count": 14,
   "metadata": {},
   "outputs": [
    {
     "data": {
      "text/html": [
       "<div>\n",
       "<style scoped>\n",
       "    .dataframe tbody tr th:only-of-type {\n",
       "        vertical-align: middle;\n",
       "    }\n",
       "\n",
       "    .dataframe tbody tr th {\n",
       "        vertical-align: top;\n",
       "    }\n",
       "\n",
       "    .dataframe thead th {\n",
       "        text-align: right;\n",
       "    }\n",
       "</style>\n",
       "<table border=\"1\" class=\"dataframe\">\n",
       "  <thead>\n",
       "    <tr style=\"text-align: right;\">\n",
       "      <th></th>\n",
       "      <th>localized_weird</th>\n",
       "      <th>localized_no_weird</th>\n",
       "      <th>localization_in_title</th>\n",
       "    </tr>\n",
       "  </thead>\n",
       "  <tbody>\n",
       "    <tr>\n",
       "      <th>sum</th>\n",
       "      <td>32</td>\n",
       "      <td>75</td>\n",
       "      <td>56</td>\n",
       "    </tr>\n",
       "    <tr>\n",
       "      <th>count</th>\n",
       "      <td>101</td>\n",
       "      <td>101</td>\n",
       "      <td>101</td>\n",
       "    </tr>\n",
       "  </tbody>\n",
       "</table>\n",
       "</div>"
      ],
      "text/plain": [
       "       localized_weird  localized_no_weird  localization_in_title\n",
       "sum                 32                  75                     56\n",
       "count              101                 101                    101"
      ]
     },
     "execution_count": 14,
     "metadata": {},
     "output_type": "execute_result"
    }
   ],
   "source": [
    "data_localized_to_display.agg(\n",
    "    {'localized_weird': ['sum', 'count'],\n",
    "     'localized_no_weird': ['sum', 'count'],\n",
    "     'localization_in_title': ['sum', 'count'],\n",
    "     }\n",
    ")"
   ]
  },
  {
   "cell_type": "code",
   "execution_count": 15,
   "metadata": {},
   "outputs": [
    {
     "data": {
      "text/html": [
       "<div>\n",
       "<style scoped>\n",
       "    .dataframe tbody tr th:only-of-type {\n",
       "        vertical-align: middle;\n",
       "    }\n",
       "\n",
       "    .dataframe tbody tr th {\n",
       "        vertical-align: top;\n",
       "    }\n",
       "\n",
       "    .dataframe thead th {\n",
       "        text-align: right;\n",
       "    }\n",
       "</style>\n",
       "<table border=\"1\" class=\"dataframe\">\n",
       "  <thead>\n",
       "    <tr style=\"text-align: right;\">\n",
       "      <th></th>\n",
       "      <th>localization_in_title</th>\n",
       "    </tr>\n",
       "  </thead>\n",
       "  <tbody>\n",
       "    <tr>\n",
       "      <th>sum</th>\n",
       "      <td>13</td>\n",
       "    </tr>\n",
       "    <tr>\n",
       "      <th>count</th>\n",
       "      <td>32</td>\n",
       "    </tr>\n",
       "  </tbody>\n",
       "</table>\n",
       "</div>"
      ],
      "text/plain": [
       "       localization_in_title\n",
       "sum                       13\n",
       "count                     32"
      ]
     },
     "execution_count": 15,
     "metadata": {},
     "output_type": "execute_result"
    }
   ],
   "source": [
    "data_localized_to_display[data_localized_to_display['localized_weird']].agg(\n",
    "    {'localization_in_title': ['sum', 'count']})"
   ]
  },
  {
   "cell_type": "code",
   "execution_count": 16,
   "metadata": {},
   "outputs": [
    {
     "data": {
      "text/html": [
       "<div>\n",
       "<style scoped>\n",
       "    .dataframe tbody tr th:only-of-type {\n",
       "        vertical-align: middle;\n",
       "    }\n",
       "\n",
       "    .dataframe tbody tr th {\n",
       "        vertical-align: top;\n",
       "    }\n",
       "\n",
       "    .dataframe thead th {\n",
       "        text-align: right;\n",
       "    }\n",
       "</style>\n",
       "<table border=\"1\" class=\"dataframe\">\n",
       "  <thead>\n",
       "    <tr style=\"text-align: right;\">\n",
       "      <th></th>\n",
       "      <th>localization_in_title</th>\n",
       "    </tr>\n",
       "  </thead>\n",
       "  <tbody>\n",
       "    <tr>\n",
       "      <th>sum</th>\n",
       "      <td>46</td>\n",
       "    </tr>\n",
       "    <tr>\n",
       "      <th>count</th>\n",
       "      <td>75</td>\n",
       "    </tr>\n",
       "  </tbody>\n",
       "</table>\n",
       "</div>"
      ],
      "text/plain": [
       "       localization_in_title\n",
       "sum                       46\n",
       "count                     75"
      ]
     },
     "execution_count": 16,
     "metadata": {},
     "output_type": "execute_result"
    }
   ],
   "source": [
    "data_localized_to_display[data_localized_to_display['localized_no_weird']].agg(\n",
    "    {'localization_in_title': ['sum', 'count']})"
   ]
  },
  {
   "cell_type": "code",
   "execution_count": 17,
   "metadata": {},
   "outputs": [],
   "source": [
    "data_localized_to_display.to_csv('data_localized.csv', index=False)"
   ]
  },
  {
   "cell_type": "code",
   "execution_count": 21,
   "metadata": {},
   "outputs": [],
   "source": [
    "from resources.querying_tools import (\n",
    "    find_localization_in_text,\n",
    "    remove_accents_and_special_chars,\n",
    ")"
   ]
  },
  {
   "cell_type": "code",
   "execution_count": 19,
   "metadata": {},
   "outputs": [
    {
     "data": {
      "text/plain": [
       "False"
      ]
     },
     "execution_count": 19,
     "metadata": {},
     "output_type": "execute_result"
    }
   ],
   "source": [
    "find_localization_in_text('Operational performance of U.S. public rail transit and implications for public policy')"
   ]
  },
  {
   "cell_type": "code",
   "execution_count": 23,
   "metadata": {},
   "outputs": [],
   "source": [
    "text = remove_accents_and_special_chars('Operational performance of U.S. public rail transit and implications for public policy')"
   ]
  },
  {
   "cell_type": "code",
   "execution_count": 24,
   "metadata": {},
   "outputs": [],
   "source": [
    "text_words = text.lower().split()"
   ]
  },
  {
   "cell_type": "code",
   "execution_count": 25,
   "metadata": {},
   "outputs": [
    {
     "data": {
      "text/plain": [
       "['operational',\n",
       " 'performance',\n",
       " 'of',\n",
       " 'us',\n",
       " 'public',\n",
       " 'rail',\n",
       " 'transit',\n",
       " 'and',\n",
       " 'implications',\n",
       " 'for',\n",
       " 'public',\n",
       " 'policy']"
      ]
     },
     "execution_count": 25,
     "metadata": {},
     "output_type": "execute_result"
    }
   ],
   "source": [
    "text_words"
   ]
  },
  {
   "cell_type": "code",
   "execution_count": 26,
   "metadata": {},
   "outputs": [],
   "source": [
    "from resources.country_lists import (\n",
    "        countries, demonyms, continents_names, continents_demonyms,\n",
    ")"
   ]
  },
  {
   "cell_type": "code",
   "execution_count": 28,
   "metadata": {},
   "outputs": [],
   "source": [
    "list_of_locations = countries + demonyms + continents_names + continents_demonyms"
   ]
  },
  {
   "cell_type": "code",
   "execution_count": 31,
   "metadata": {},
   "outputs": [
    {
     "data": {
      "text/plain": [
       "['afghanistan',\n",
       " 'albania',\n",
       " 'algeria',\n",
       " 'andorra',\n",
       " 'angola',\n",
       " 'antigua and barbuda',\n",
       " 'argentina',\n",
       " 'armenia',\n",
       " 'australia',\n",
       " 'austria',\n",
       " 'azerbaijan',\n",
       " 'bahamas',\n",
       " 'bahrain',\n",
       " 'bangladesh',\n",
       " 'barbados',\n",
       " 'belarus',\n",
       " 'belgium',\n",
       " 'belize',\n",
       " 'benin',\n",
       " 'bhutan',\n",
       " 'bolivia',\n",
       " 'bosnia and herzegovina',\n",
       " 'botswana',\n",
       " 'brazil',\n",
       " 'brunei',\n",
       " 'bulgaria',\n",
       " 'burkina faso',\n",
       " 'burundi',\n",
       " 'cabo verde',\n",
       " 'cambodia',\n",
       " 'cameroon',\n",
       " 'canada',\n",
       " 'central african republic',\n",
       " 'chad',\n",
       " 'chile',\n",
       " 'china',\n",
       " 'colombia',\n",
       " 'comoros',\n",
       " 'congo',\n",
       " 'costa rica',\n",
       " 'croatia',\n",
       " 'cuba',\n",
       " 'cyprus',\n",
       " 'czech republic',\n",
       " 'czechia',\n",
       " 'denmark',\n",
       " 'djibouti',\n",
       " 'dominica',\n",
       " 'dominican republic',\n",
       " 'ecuador',\n",
       " 'egypt',\n",
       " 'el salvador',\n",
       " 'equatorial guinea',\n",
       " 'eritrea',\n",
       " 'estonia',\n",
       " 'eswatini',\n",
       " 'ethiopia',\n",
       " 'fiji',\n",
       " 'finland',\n",
       " 'france',\n",
       " 'gabon',\n",
       " 'gambia',\n",
       " 'georgia',\n",
       " 'germany',\n",
       " 'ghana',\n",
       " 'greece',\n",
       " 'grenada',\n",
       " 'guatemala',\n",
       " 'guinea',\n",
       " 'guinea-bissau',\n",
       " 'guyana',\n",
       " 'haiti',\n",
       " 'honduras',\n",
       " 'hungary',\n",
       " 'iceland',\n",
       " 'india',\n",
       " 'indonesia',\n",
       " 'iran',\n",
       " 'iraq',\n",
       " 'ireland',\n",
       " 'israel',\n",
       " 'italy',\n",
       " 'jamaica',\n",
       " 'japan',\n",
       " 'jordan',\n",
       " 'kazakhstan',\n",
       " 'kenya',\n",
       " 'kiribati',\n",
       " 'north korea',\n",
       " 'south korea',\n",
       " 'korea',\n",
       " 'kosovo',\n",
       " 'kuwait',\n",
       " 'kyrgyzstan',\n",
       " 'laos',\n",
       " 'latvia',\n",
       " 'lebanon',\n",
       " 'lesotho',\n",
       " 'liberia',\n",
       " 'libya',\n",
       " 'liechtenstein',\n",
       " 'lithuania',\n",
       " 'luxembourg',\n",
       " 'madagascar',\n",
       " 'malawi',\n",
       " 'malaysia',\n",
       " 'maldives',\n",
       " 'mali',\n",
       " 'malta',\n",
       " 'marshall islands',\n",
       " 'mauritania',\n",
       " 'mauritius',\n",
       " 'mexico',\n",
       " 'micronesia',\n",
       " 'moldova',\n",
       " 'monaco',\n",
       " 'mongolia',\n",
       " 'montenegro',\n",
       " 'morocco',\n",
       " 'mozambique',\n",
       " 'myanmar',\n",
       " 'namibia',\n",
       " 'nauru',\n",
       " 'nepal',\n",
       " 'netherlands',\n",
       " 'new zealand',\n",
       " 'nicaragua',\n",
       " 'niger',\n",
       " 'nigeria',\n",
       " 'north macedonia',\n",
       " 'norway',\n",
       " 'oman',\n",
       " 'pakistan',\n",
       " 'palau',\n",
       " 'panama',\n",
       " 'papua new guinea',\n",
       " 'paraguay',\n",
       " 'peru',\n",
       " 'philippines',\n",
       " 'poland',\n",
       " 'portugal',\n",
       " 'qatar',\n",
       " 'romania',\n",
       " 'russia',\n",
       " 'rwanda',\n",
       " 'saint kitts and nevis',\n",
       " 'saint lucia',\n",
       " 'saint vincent and the grenadines',\n",
       " 'samoa',\n",
       " 'san marino',\n",
       " 'sao tome and principe',\n",
       " 'saudi arabia',\n",
       " 'senegal',\n",
       " 'serbia',\n",
       " 'seychelles',\n",
       " 'sierra leone',\n",
       " 'singapore',\n",
       " 'slovakia',\n",
       " 'slovenia',\n",
       " 'solomon islands',\n",
       " 'somalia',\n",
       " 'south africa',\n",
       " 'south sudan',\n",
       " 'spain',\n",
       " 'sri lanka',\n",
       " 'sudan',\n",
       " 'suriname',\n",
       " 'sweden',\n",
       " 'switzerland',\n",
       " 'syria',\n",
       " 'taiwan',\n",
       " 'tajikistan',\n",
       " 'tanzania',\n",
       " 'thailand',\n",
       " 'timor-leste',\n",
       " 'togo',\n",
       " 'tonga',\n",
       " 'trinidad and tobago',\n",
       " 'tunisia',\n",
       " 'turkey',\n",
       " 'turkmenistan',\n",
       " 'tuvalu',\n",
       " 'uganda',\n",
       " 'ukraine',\n",
       " 'united arab emirates',\n",
       " 'united kingdom',\n",
       " 'uk',\n",
       " 'united states',\n",
       " 'usa',\n",
       " 'usuruguay',\n",
       " 'uzbekistan',\n",
       " 'vanuatu',\n",
       " 'vatican city',\n",
       " 'venezuela',\n",
       " 'vietnam',\n",
       " 'yemen',\n",
       " 'zambia',\n",
       " 'zimbabwe',\n",
       " 'afghan',\n",
       " 'albanian',\n",
       " 'algerian',\n",
       " 'andorran',\n",
       " 'angolan',\n",
       " 'antiguan and barbudan',\n",
       " 'argentinian',\n",
       " 'argentine',\n",
       " 'armenian',\n",
       " 'australian',\n",
       " 'austrian',\n",
       " 'azerbaijani',\n",
       " 'bahamian',\n",
       " 'bahraini',\n",
       " 'bangladeshi',\n",
       " 'barbadian',\n",
       " 'belarusian',\n",
       " 'belgian',\n",
       " 'belizean',\n",
       " 'beninese',\n",
       " 'bhutanese',\n",
       " 'bolivian',\n",
       " 'bosnian',\n",
       " 'botswanan',\n",
       " 'brazilian',\n",
       " 'bruneian',\n",
       " 'bulgarian',\n",
       " 'burkinabé',\n",
       " 'burundian',\n",
       " 'cabo verdean',\n",
       " 'cambodian',\n",
       " 'cameroonian',\n",
       " 'canadian',\n",
       " 'central african',\n",
       " 'chadian',\n",
       " 'chilean',\n",
       " 'chinese',\n",
       " 'colombian',\n",
       " 'comoran',\n",
       " 'congolese',\n",
       " 'costa rican',\n",
       " 'croatian',\n",
       " 'cuban',\n",
       " 'cypriot',\n",
       " 'czech',\n",
       " 'danish',\n",
       " 'djiboutian',\n",
       " 'dominican',\n",
       " 'ecuadorean',\n",
       " 'egyptian',\n",
       " 'salvadoran',\n",
       " 'salvadorian',\n",
       " 'equatorial guinean',\n",
       " 'eritrean',\n",
       " 'estonian',\n",
       " 'swazi',\n",
       " 'ethiopian',\n",
       " 'fijian',\n",
       " 'finnish',\n",
       " 'french',\n",
       " 'gabonese',\n",
       " 'gambian',\n",
       " 'georgian',\n",
       " 'german',\n",
       " 'ghanaian',\n",
       " 'greek',\n",
       " 'grenadian',\n",
       " 'guatemalan',\n",
       " 'guinean',\n",
       " 'guinea-bissauan',\n",
       " 'guyanese',\n",
       " 'haitian',\n",
       " 'honduran',\n",
       " 'hungarian',\n",
       " 'icelandic',\n",
       " 'indian',\n",
       " 'indonesian',\n",
       " 'iranian',\n",
       " 'iraqi',\n",
       " 'irish',\n",
       " 'israeli',\n",
       " 'italian',\n",
       " 'jamaican',\n",
       " 'japanese',\n",
       " 'jordanian',\n",
       " 'kazakhstani',\n",
       " 'kenyan',\n",
       " 'i-kiribati',\n",
       " 'north korean',\n",
       " 'south korean',\n",
       " 'kosovar',\n",
       " 'kuwaiti',\n",
       " 'kyrgyz',\n",
       " 'laotian',\n",
       " 'latvian',\n",
       " 'lebanese',\n",
       " 'mosotho',\n",
       " 'liberian',\n",
       " 'libyan',\n",
       " 'liechtensteiner',\n",
       " 'lithuanian',\n",
       " 'luxembourger',\n",
       " 'malagasy',\n",
       " 'malawian',\n",
       " 'malaysian',\n",
       " 'maldivian',\n",
       " 'malian',\n",
       " 'maltese',\n",
       " 'marshallese',\n",
       " 'mauritanian',\n",
       " 'mauritian',\n",
       " 'mexican',\n",
       " 'micronesian',\n",
       " 'moldovan',\n",
       " 'monegasque',\n",
       " 'mongolian',\n",
       " 'montenegrin',\n",
       " 'moroccan',\n",
       " 'mozambican',\n",
       " 'burmese',\n",
       " 'namibian',\n",
       " 'nauruan',\n",
       " 'nepalese',\n",
       " 'dutch',\n",
       " 'new zealander',\n",
       " 'nicaraguan',\n",
       " 'nigerien',\n",
       " 'nigerian',\n",
       " 'north macedonian',\n",
       " 'norwegian',\n",
       " 'omani',\n",
       " 'pakistani',\n",
       " 'palauan',\n",
       " 'panamanian',\n",
       " 'papua new guinean',\n",
       " 'paraguayan',\n",
       " 'peruvian',\n",
       " 'filipino',\n",
       " 'polish',\n",
       " 'portuguese',\n",
       " 'qatari',\n",
       " 'romanian',\n",
       " 'russian',\n",
       " 'rwandan',\n",
       " 'saint kitts and nevisian',\n",
       " 'saint lucian',\n",
       " 'saint vincent and the grenadines',\n",
       " 'samoan',\n",
       " 'san marinese',\n",
       " 'sao tomean',\n",
       " 'saudi arabian',\n",
       " 'senegalese',\n",
       " 'serbian',\n",
       " 'seychellois',\n",
       " 'sierra leonean',\n",
       " 'singaporean',\n",
       " 'slovak',\n",
       " 'slovenian',\n",
       " 'solomon islander',\n",
       " 'somali',\n",
       " 'south african',\n",
       " 'south sudanese',\n",
       " 'spanish',\n",
       " 'sri lankan',\n",
       " 'sudanese',\n",
       " 'surinamese',\n",
       " 'swedish',\n",
       " 'swiss',\n",
       " 'syrian',\n",
       " 'taiwanese',\n",
       " 'tajik',\n",
       " 'tanzanian',\n",
       " 'thai',\n",
       " 'timorese',\n",
       " 'togolese',\n",
       " 'tongan',\n",
       " 'trinidadian or tobagonian',\n",
       " 'tunisian',\n",
       " 'turkish',\n",
       " 'turkmen',\n",
       " 'tuvaluan',\n",
       " 'ugandan',\n",
       " 'ukrainian',\n",
       " 'emirian',\n",
       " 'british',\n",
       " 'american',\n",
       " 'uruguayan',\n",
       " 'uzbekistani',\n",
       " 'ni-vanuatu',\n",
       " 'vatican',\n",
       " 'venezuelan',\n",
       " 'vietnamese',\n",
       " 'yemenite',\n",
       " 'zambian',\n",
       " 'zimbabwean',\n",
       " 'africa',\n",
       " 'antarctica',\n",
       " 'asia',\n",
       " 'europe',\n",
       " 'eunorth america',\n",
       " 'oceania',\n",
       " 'south america',\n",
       " 'african',\n",
       " 'antarctic',\n",
       " 'asian',\n",
       " 'european',\n",
       " 'north american',\n",
       " 'oceanian',\n",
       " 'south american']"
      ]
     },
     "execution_count": 31,
     "metadata": {},
     "output_type": "execute_result"
    }
   ],
   "source": [
    "[location.lower() for location in list_of_locations]"
   ]
  },
  {
   "cell_type": "code",
   "execution_count": 30,
   "metadata": {},
   "outputs": [
    {
     "data": {
      "text/plain": [
       "False"
      ]
     },
     "execution_count": 30,
     "metadata": {},
     "output_type": "execute_result"
    }
   ],
   "source": [
    "any(location.lower() in text_words for location in list_of_locations)"
   ]
  },
  {
   "cell_type": "code",
   "execution_count": null,
   "metadata": {},
   "outputs": [],
   "source": [
    "! pip install GeonamesCache"
   ]
  },
  {
   "cell_type": "code",
   "execution_count": null,
   "metadata": {},
   "outputs": [],
   "source": [
    "import geonamescache\n",
    "\n",
    "gc = geonamescache.GeonamesCache()\n",
    "countries = gc.get_countries_by_names()\n",
    "continents = gc.get_continents()\n",
    "cities = gc.get_cities_by_name()"
   ]
  },
  {
   "cell_type": "code",
   "execution_count": null,
   "metadata": {},
   "outputs": [],
   "source": [
    "for country_name, country_info in countries.items():\n",
    "    print(country_name)"
   ]
  },
  {
   "cell_type": "code",
   "execution_count": null,
   "metadata": {},
   "outputs": [],
   "source": [
    "gc = geonamescache.GeonamesCache()\n",
    "countries = [country['name'] for country in gc.get_countries().values()]\n",
    "continents = [continent['name'] for continent in gc.get_continents().values()]\n",
    "cities = [city['name'] for city in gc.get_cities().values()]"
   ]
  },
  {
   "cell_type": "code",
   "execution_count": null,
   "metadata": {},
   "outputs": [],
   "source": [
    "'Of' in cities"
   ]
  },
  {
   "cell_type": "code",
   "execution_count": null,
   "metadata": {},
   "outputs": [],
   "source": [
    "import geonamescache\n",
    "import re\n",
    "\n",
    "def find_location(text):\n",
    "    gc = geonamescache.GeonamesCache()\n",
    "    countries = [country['name'] for country in gc.get_countries().values()]\n",
    "    continents = [continent['name'] for continent in gc.get_continents().values()]\n",
    "    cities = [city['name'] for city in gc.get_cities().values()]\n",
    "\n",
    "    found = {\n",
    "        'countries': [],\n",
    "        'continents': [],\n",
    "        'cities': []\n",
    "    }\n",
    "\n",
    "    for country_name in countries:\n",
    "        if re.search(r'\\b{}\\b'.format(re.escape(country_name)), text):\n",
    "            found['countries'].append(country_name)\n",
    "\n",
    "    for continent_name in continents:\n",
    "        if re.search(r'\\b{}\\b'.format(re.escape(continent_name)), text):\n",
    "            found['continents'].append(continent_name)\n",
    "\n",
    "    for city_name in cities:\n",
    "        if re.search(r'\\b{}\\b'.format(re.escape(city_name)), text):\n",
    "            found['cities'].append(city_name)\n",
    "\n",
    "    return found\n",
    "\n"
   ]
  },
  {
   "cell_type": "code",
   "execution_count": null,
   "metadata": {},
   "outputs": [],
   "source": [
    "# Example usage:\n",
    "text_to_check = \"I love pancakes, the capital of France, located in Europe.\"\n",
    "result = find_location(text_to_check)\n",
    "\n",
    "print(\"Countries:\", result['countries'])\n",
    "print(\"Continents:\", result['continents'])\n",
    "print(\"Cities:\", result['cities'])\n"
   ]
  },
  {
   "cell_type": "markdown",
   "metadata": {},
   "source": [
    "## Results after applying availability-bias-tool"
   ]
  },
  {
   "cell_type": "code",
   "execution_count": null,
   "metadata": {},
   "outputs": [],
   "source": [
    "open_access_df = original_df_with_localization[original_df_with_localization['openaccess'] == 1]\n",
    "closed_access_df = original_df_with_localization[original_df_with_localization['openaccess'] == 0]"
   ]
  },
  {
   "cell_type": "code",
   "execution_count": null,
   "metadata": {},
   "outputs": [],
   "source": [
    "print(f'Lenght of open access df: {len(open_access_df)}')\n",
    "print(f'Lenght of closed access df: {len(closed_access_df)}')"
   ]
  },
  {
   "cell_type": "code",
   "execution_count": null,
   "metadata": {},
   "outputs": [],
   "source": [
    "# lang_bias_tool_df"
   ]
  },
  {
   "cell_type": "code",
   "execution_count": null,
   "metadata": {},
   "outputs": [],
   "source": [
    "# local_bias_tool__non_weird_new_records_df = local_bias_tool_df__non_weird[\n",
    "#     ~local_bias_tool_df__non_weird['dc:identifier'].isin(original_df['dc:identifier'])\n",
    "#     ].copy().reset_index(drop=True)"
   ]
  },
  {
   "cell_type": "code",
   "execution_count": null,
   "metadata": {},
   "outputs": [],
   "source": [
    "# local_bias_tool__weird_new_records_df = local_bias_tool_df__weird[\n",
    "#     ~local_bias_tool_df__weird['dc:identifier'].isin(original_df['dc:identifier'])\n",
    "#     ].copy().reset_index(drop=True)"
   ]
  },
  {
   "cell_type": "code",
   "execution_count": null,
   "metadata": {},
   "outputs": [],
   "source": [
    "# df_dict = {\n",
    "#     'original': original_df,\n",
    "#     'lang_bias_tool': lang_bias_tool_df,\n",
    "#     'local_bias_tool__non_weird': local_bias_tool_df__non_weird,\n",
    "#     'local_bias_tool__weird': local_bias_tool_df__weird,\n",
    "#     'lang_bias_tool_new_records': lang_bias_tool_new_records_df,\n",
    "#     'local_bias_tool__non_weird_new_records': local_bias_tool__non_weird_new_records_df,\n",
    "#     'local_bias_tool__weird_new_records': local_bias_tool__weird_new_records_df\n",
    "#     }"
   ]
  },
  {
   "cell_type": "code",
   "execution_count": null,
   "metadata": {},
   "outputs": [],
   "source": [
    "# if h.save_to_csv:\n",
    "#     f.export_to_csv(original_df, file_name_prefix + 'original')\n",
    "#     f.export_to_csv(lang_bias_tool_df, file_name_prefix + 'lang_bias_tool')\n",
    "#     f.export_to_csv(local_bias_tool_df__weird, file_name_prefix + 'local_bias_tool__weird')\n",
    "#     f.export_to_csv(local_bias_tool_df__non_weird, file_name_prefix + 'local_bias_tool__non_weird')\n",
    "#     f.export_to_csv(lang_bias_tool_new_records_df, file_name_prefix + 'lang_bias_tool_new_records')\n",
    "#     f.export_to_csv(local_bias_tool__non_weird_new_records_df,\n",
    "#                     file_name_prefix + 'local_bias_tool__non_weird_new_records')\n",
    "#     f.export_to_csv(local_bias_tool__weird_new_records_df,\n",
    "#                     file_name_prefix + 'local_bias_tool__weird_new_records')"
   ]
  }
 ],
 "metadata": {
  "kernelspec": {
   "display_name": ".venv",
   "language": "python",
   "name": "python3"
  },
  "language_info": {
   "codemirror_mode": {
    "name": "ipython",
    "version": 3
   },
   "file_extension": ".py",
   "mimetype": "text/x-python",
   "name": "python",
   "nbconvert_exporter": "python",
   "pygments_lexer": "ipython3",
   "version": "3.11.3"
  },
  "orig_nbformat": 4
 },
 "nbformat": 4,
 "nbformat_minor": 2
}
