{
 "cells": [
  {
   "cell_type": "code",
   "execution_count": null,
   "metadata": {},
   "outputs": [],
   "source": [
    "%rm ../main.log\n",
    "%rm ../dump.json"
   ]
  },
  {
   "cell_type": "code",
   "execution_count": null,
   "metadata": {},
   "outputs": [],
   "source": [
    "%run ../env_variables.py"
   ]
  },
  {
   "cell_type": "code",
   "execution_count": null,
   "metadata": {},
   "outputs": [],
   "source": [
    "from resources.examples import mergoni_2021_scopus_query, mergoni_2021_max_date\n",
    "from resources.querying_tools import (\n",
    "    language_bias_tool,\n",
    "    publication_bias_tool,\n",
    "    localization_bias_tool,\n",
    ")\n",
    "from resources.scopus_functions import (\n",
    "    retrieve_results_from_list_of_queries,\n",
    "    columns_to_hide,\n",
    ")\n",
    "import logging"
   ]
  },
  {
   "cell_type": "code",
   "execution_count": null,
   "metadata": {},
   "outputs": [],
   "source": [
    "# Set up logging\n",
    "# Create logger with 'main'\n",
    "logger = logging.getLogger('main')\n",
    "logger.setLevel(logging.DEBUG)\n",
    "# Create file handler which logs even debug messages\n",
    "fh = logging.FileHandler('main.log')\n",
    "fh.setLevel(logging.DEBUG)\n",
    "# Create console handler with a higher log level\n",
    "ch = logging.StreamHandler()\n",
    "ch.setLevel(logging.ERROR)\n",
    "# Create formatter and add it to the handlers\n",
    "formatter = logging.Formatter(\n",
    "    '%(asctime)s - [%(module)s|%(funcName)s] - %(levelname)s - %(message)s')\n",
    "fh.setFormatter(formatter)\n",
    "ch.setFormatter(formatter)\n",
    "# Add the handlers to the logger\n",
    "logger.addHandler(fh)\n",
    "logger.addHandler(ch)"
   ]
  },
  {
   "cell_type": "code",
   "execution_count": null,
   "metadata": {},
   "outputs": [],
   "source": [
    "original_query = mergoni_2021_scopus_query\n",
    "max_date = mergoni_2021_max_date"
   ]
  },
  {
   "cell_type": "code",
   "execution_count": null,
   "metadata": {},
   "outputs": [],
   "source": [
    "def load_data(query, max_date):\n",
    "    data = retrieve_results_from_list_of_queries(\n",
    "        list_of_queries=[query], max_date=max_date\n",
    "    )\n",
    "    return data"
   ]
  },
  {
   "cell_type": "code",
   "execution_count": null,
   "metadata": {},
   "outputs": [],
   "source": [
    "data_original = load_data(\n",
    "        original_query, max_date\n",
    "        )"
   ]
  },
  {
   "cell_type": "code",
   "execution_count": null,
   "metadata": {},
   "outputs": [],
   "source": [
    "data_original_to_display = data_original.drop(columns=columns_to_hide)"
   ]
  },
  {
   "cell_type": "code",
   "execution_count": null,
   "metadata": {},
   "outputs": [],
   "source": [
    "import pandas as pd\n",
    "\n",
    "pd.options.display.max_colwidth = 1_000\n",
    "pd.options.display.max_columns = 1_000"
   ]
  },
  {
   "cell_type": "code",
   "execution_count": null,
   "metadata": {},
   "outputs": [],
   "source": [
    "data_original_to_display.head()"
   ]
  },
  {
   "cell_type": "markdown",
   "metadata": {},
   "source": [
    "## language-bias-tool"
   ]
  },
  {
   "cell_type": "code",
   "execution_count": null,
   "metadata": {},
   "outputs": [],
   "source": [
    "lang_bias_query = language_bias_tool(original_query)\n",
    "pub_bias_query = publication_bias_tool(original_query)"
   ]
  },
  {
   "cell_type": "code",
   "execution_count": null,
   "metadata": {},
   "outputs": [],
   "source": [
    "data_lang = load_data(lang_bias_query, max_date)"
   ]
  },
  {
   "cell_type": "code",
   "execution_count": null,
   "metadata": {},
   "outputs": [],
   "source": [
    "data_lang_diff = data_lang[\n",
    "    ~data_lang['dc:identifier'].isin(\n",
    "        data_original['dc:identifier'])].reset_index(drop=True)"
   ]
  },
  {
   "cell_type": "code",
   "execution_count": null,
   "metadata": {},
   "outputs": [],
   "source": [
    "data_lang_diff_to_display = data_lang_diff.drop(\n",
    "    columns=columns_to_hide)"
   ]
  },
  {
   "cell_type": "code",
   "execution_count": null,
   "metadata": {},
   "outputs": [],
   "source": [
    "data_lang_diff_to_display.head()"
   ]
  },
  {
   "cell_type": "markdown",
   "metadata": {},
   "source": [
    "## publication-bias-tool"
   ]
  },
  {
   "cell_type": "code",
   "execution_count": null,
   "metadata": {},
   "outputs": [],
   "source": [
    "data_pub = load_data(pub_bias_query, max_date)"
   ]
  },
  {
   "cell_type": "code",
   "execution_count": null,
   "metadata": {},
   "outputs": [],
   "source": [
    "data_pub_diff = data_pub[\n",
    "    ~data_pub['dc:identifier'].isin(\n",
    "        data_original['dc:identifier'])].reset_index(drop=True)"
   ]
  },
  {
   "cell_type": "code",
   "execution_count": null,
   "metadata": {},
   "outputs": [],
   "source": [
    "data_pub_diff_to_display = data_pub_diff.drop(\n",
    "    columns=columns_to_hide)"
   ]
  },
  {
   "cell_type": "code",
   "execution_count": null,
   "metadata": {},
   "outputs": [],
   "source": [
    "data_pub_diff_to_display.head()"
   ]
  },
  {
   "cell_type": "markdown",
   "metadata": {},
   "source": [
    "## localization-bias-tool"
   ]
  },
  {
   "cell_type": "code",
   "execution_count": null,
   "metadata": {},
   "outputs": [],
   "source": [
    "data_localized = localization_bias_tool(original_query, max_date)"
   ]
  },
  {
   "cell_type": "code",
   "execution_count": null,
   "metadata": {},
   "outputs": [],
   "source": [
    "data_localized_to_display = data_localized.drop(\n",
    "    columns=columns_to_hide)"
   ]
  },
  {
   "cell_type": "code",
   "execution_count": null,
   "metadata": {},
   "outputs": [],
   "source": [
    "data_localized_to_display.shape"
   ]
  },
  {
   "cell_type": "code",
   "execution_count": null,
   "metadata": {},
   "outputs": [],
   "source": [
    "data_localized_to_display.agg(\n",
    "    {'localized_weird': ['sum', 'count'],\n",
    "     'localized_no_weird': ['sum', 'count'],\n",
    "     'localization_in_title': ['sum', 'count'],\n",
    "     }\n",
    ")"
   ]
  },
  {
   "cell_type": "code",
   "execution_count": null,
   "metadata": {},
   "outputs": [],
   "source": [
    "data_localized_to_display[data_localized_to_display['localized_weird']].agg(\n",
    "    {'localization_in_title': ['sum', 'count']})"
   ]
  },
  {
   "cell_type": "code",
   "execution_count": null,
   "metadata": {},
   "outputs": [],
   "source": [
    "data_localized_to_display[data_localized_to_display['localized_no_weird']].agg(\n",
    "    {'localization_in_title': ['sum', 'count']})"
   ]
  },
  {
   "cell_type": "code",
   "execution_count": null,
   "metadata": {},
   "outputs": [],
   "source": [
    "data_localized_to_display.to_csv('data_localized.csv', index=False)"
   ]
  },
  {
   "cell_type": "code",
   "execution_count": null,
   "metadata": {},
   "outputs": [],
   "source": [
    "! pip install GeonamesCache"
   ]
  },
  {
   "cell_type": "code",
   "execution_count": null,
   "metadata": {},
   "outputs": [],
   "source": [
    "import geonamescache\n",
    "\n",
    "gc = geonamescache.GeonamesCache()\n",
    "countries = gc.get_countries_by_names()\n",
    "continents = gc.get_continents()\n",
    "cities = gc.get_cities_by_name()"
   ]
  },
  {
   "cell_type": "code",
   "execution_count": null,
   "metadata": {},
   "outputs": [],
   "source": [
    "for country_name, country_info in countries.items():\n",
    "    print(country_name)"
   ]
  },
  {
   "cell_type": "code",
   "execution_count": null,
   "metadata": {},
   "outputs": [],
   "source": [
    "gc = geonamescache.GeonamesCache()\n",
    "countries = [country['name'] for country in gc.get_countries().values()]\n",
    "continents = [continent['name'] for continent in gc.get_continents().values()]\n",
    "cities = [city['name'] for city in gc.get_cities().values()]"
   ]
  },
  {
   "cell_type": "code",
   "execution_count": null,
   "metadata": {},
   "outputs": [],
   "source": [
    "'Of' in cities"
   ]
  },
  {
   "cell_type": "code",
   "execution_count": null,
   "metadata": {},
   "outputs": [],
   "source": [
    "import geonamescache\n",
    "import re\n",
    "\n",
    "def find_location(text):\n",
    "    gc = geonamescache.GeonamesCache()\n",
    "    countries = [country['name'] for country in gc.get_countries().values()]\n",
    "    continents = [continent['name'] for continent in gc.get_continents().values()]\n",
    "    cities = [city['name'] for city in gc.get_cities().values()]\n",
    "\n",
    "    found = {\n",
    "        'countries': [],\n",
    "        'continents': [],\n",
    "        'cities': []\n",
    "    }\n",
    "\n",
    "    for country_name in countries:\n",
    "        if re.search(r'\\b{}\\b'.format(re.escape(country_name)), text):\n",
    "            found['countries'].append(country_name)\n",
    "\n",
    "    for continent_name in continents:\n",
    "        if re.search(r'\\b{}\\b'.format(re.escape(continent_name)), text):\n",
    "            found['continents'].append(continent_name)\n",
    "\n",
    "    for city_name in cities:\n",
    "        if re.search(r'\\b{}\\b'.format(re.escape(city_name)), text):\n",
    "            found['cities'].append(city_name)\n",
    "\n",
    "    return found\n",
    "\n"
   ]
  },
  {
   "cell_type": "code",
   "execution_count": null,
   "metadata": {},
   "outputs": [],
   "source": [
    "# Example usage:\n",
    "text_to_check = \"I love pancakes, the capital of France, located in Europe.\"\n",
    "result = find_location(text_to_check)\n",
    "\n",
    "print(\"Countries:\", result['countries'])\n",
    "print(\"Continents:\", result['continents'])\n",
    "print(\"Cities:\", result['cities'])\n"
   ]
  },
  {
   "cell_type": "markdown",
   "metadata": {},
   "source": [
    "## Results after applying availability-bias-tool"
   ]
  },
  {
   "cell_type": "code",
   "execution_count": null,
   "metadata": {},
   "outputs": [],
   "source": [
    "open_access_df = original_df_with_localization[original_df_with_localization['openaccess'] == 1]\n",
    "closed_access_df = original_df_with_localization[original_df_with_localization['openaccess'] == 0]"
   ]
  },
  {
   "cell_type": "code",
   "execution_count": null,
   "metadata": {},
   "outputs": [],
   "source": [
    "print(f'Lenght of open access df: {len(open_access_df)}')\n",
    "print(f'Lenght of closed access df: {len(closed_access_df)}')"
   ]
  },
  {
   "cell_type": "code",
   "execution_count": null,
   "metadata": {},
   "outputs": [],
   "source": [
    "# lang_bias_tool_df"
   ]
  },
  {
   "cell_type": "code",
   "execution_count": null,
   "metadata": {},
   "outputs": [],
   "source": [
    "# local_bias_tool__non_weird_new_records_df = local_bias_tool_df__non_weird[\n",
    "#     ~local_bias_tool_df__non_weird['dc:identifier'].isin(original_df['dc:identifier'])\n",
    "#     ].copy().reset_index(drop=True)"
   ]
  },
  {
   "cell_type": "code",
   "execution_count": null,
   "metadata": {},
   "outputs": [],
   "source": [
    "# local_bias_tool__weird_new_records_df = local_bias_tool_df__weird[\n",
    "#     ~local_bias_tool_df__weird['dc:identifier'].isin(original_df['dc:identifier'])\n",
    "#     ].copy().reset_index(drop=True)"
   ]
  },
  {
   "cell_type": "code",
   "execution_count": null,
   "metadata": {},
   "outputs": [],
   "source": [
    "# df_dict = {\n",
    "#     'original': original_df,\n",
    "#     'lang_bias_tool': lang_bias_tool_df,\n",
    "#     'local_bias_tool__non_weird': local_bias_tool_df__non_weird,\n",
    "#     'local_bias_tool__weird': local_bias_tool_df__weird,\n",
    "#     'lang_bias_tool_new_records': lang_bias_tool_new_records_df,\n",
    "#     'local_bias_tool__non_weird_new_records': local_bias_tool__non_weird_new_records_df,\n",
    "#     'local_bias_tool__weird_new_records': local_bias_tool__weird_new_records_df\n",
    "#     }"
   ]
  },
  {
   "cell_type": "code",
   "execution_count": null,
   "metadata": {},
   "outputs": [],
   "source": [
    "# if h.save_to_csv:\n",
    "#     f.export_to_csv(original_df, file_name_prefix + 'original')\n",
    "#     f.export_to_csv(lang_bias_tool_df, file_name_prefix + 'lang_bias_tool')\n",
    "#     f.export_to_csv(local_bias_tool_df__weird, file_name_prefix + 'local_bias_tool__weird')\n",
    "#     f.export_to_csv(local_bias_tool_df__non_weird, file_name_prefix + 'local_bias_tool__non_weird')\n",
    "#     f.export_to_csv(lang_bias_tool_new_records_df, file_name_prefix + 'lang_bias_tool_new_records')\n",
    "#     f.export_to_csv(local_bias_tool__non_weird_new_records_df,\n",
    "#                     file_name_prefix + 'local_bias_tool__non_weird_new_records')\n",
    "#     f.export_to_csv(local_bias_tool__weird_new_records_df,\n",
    "#                     file_name_prefix + 'local_bias_tool__weird_new_records')"
   ]
  }
 ],
 "metadata": {
  "kernelspec": {
   "display_name": ".venv",
   "language": "python",
   "name": "python3"
  },
  "language_info": {
   "codemirror_mode": {
    "name": "ipython",
    "version": 3
   },
   "file_extension": ".py",
   "mimetype": "text/x-python",
   "name": "python",
   "nbconvert_exporter": "python",
   "pygments_lexer": "ipython3",
   "version": "3.11.3"
  },
  "orig_nbformat": 4
 },
 "nbformat": 4,
 "nbformat_minor": 2
}
