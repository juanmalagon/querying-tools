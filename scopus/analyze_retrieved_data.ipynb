{
 "cells": [
  {
   "cell_type": "code",
   "execution_count": 1,
   "metadata": {},
   "outputs": [],
   "source": [
    "%run ../env_variables.py"
   ]
  },
  {
   "cell_type": "code",
   "execution_count": 2,
   "metadata": {},
   "outputs": [
    {
     "name": "stderr",
     "output_type": "stream",
     "text": [
      "2023-07-21 16:51:20,148 INFO [handler|__init__]Initializing handler\n",
      "2023-07-21 16:51:20,148 INFO [handler|__init__]Run date: 2023-07-21 16:51:20\n",
      "2023-07-21 16:51:20,148 INFO [handler|__init__]Run serial: 3a8ac4af-2f66-44b8-ab2d-bd50215bef45\n",
      "2023-07-21 16:51:20,148 INFO [handler|__init__]Environment variables:\n",
      "2023-07-21 16:51:20,149 INFO [handler|__init__]project_dir: /Users/juanmalagon/repos/unbiased-request\n",
      "2023-07-21 16:51:20,149 INFO [handler|__init__]scopus_config_file: /Users/juanmalagon/repos/unbiased-request/scopus/config.json\n"
     ]
    }
   ],
   "source": [
    "import pandas as pd\n",
    "\n",
    "from helpers import handler as h"
   ]
  },
  {
   "cell_type": "code",
   "execution_count": 4,
   "metadata": {},
   "outputs": [],
   "source": [
    "pd.options.display.max_columns = None"
   ]
  },
  {
   "cell_type": "code",
   "execution_count": 6,
   "metadata": {},
   "outputs": [],
   "source": [
    "base_name = 'mergoni_scopus_step_'\n",
    "run_date = '2023-07-21 13/47/41'\n",
    "run_serial = 'fa6348ca-f2c2-4001-b0c2-4f8f39b27dc9'"
   ]
  },
  {
   "cell_type": "code",
   "execution_count": 7,
   "metadata": {},
   "outputs": [],
   "source": [
    "initial_df_name = base_name + '0-' + run_date + '-' + run_serial + '.csv'\n",
    "step_1_df_name = base_name + '1-' + run_date + '-' + run_serial + '.csv'\n",
    "step_2_non_weird_df_name = base_name + '2__non_weird-' + run_date + '-' + run_serial + '.csv'\n",
    "step_2_weird_df_name = base_name + '2__weird-' + run_date + '-' + run_serial + '.csv'"
   ]
  },
  {
   "cell_type": "code",
   "execution_count": null,
   "metadata": {},
   "outputs": [],
   "source": [
    "initial_df = pd.read_csv(h.scopus_data_dir + initial_df_name)"
   ]
  }
 ],
 "metadata": {
  "kernelspec": {
   "display_name": ".venv",
   "language": "python",
   "name": "python3"
  },
  "language_info": {
   "codemirror_mode": {
    "name": "ipython",
    "version": 3
   },
   "file_extension": ".py",
   "mimetype": "text/x-python",
   "name": "python",
   "nbconvert_exporter": "python",
   "pygments_lexer": "ipython3",
   "version": "3.11.3"
  },
  "orig_nbformat": 4
 },
 "nbformat": 4,
 "nbformat_minor": 2
}
