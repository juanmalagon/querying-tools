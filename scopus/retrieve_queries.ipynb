{
 "cells": [
  {
   "cell_type": "code",
   "execution_count": null,
   "metadata": {},
   "outputs": [],
   "source": [
    "%run ../env_variables.py"
   ]
  },
  {
   "cell_type": "code",
   "execution_count": null,
   "metadata": {},
   "outputs": [],
   "source": [
    "import helpers.queries as q\n",
    "import helpers.scopus_helpers as sh"
   ]
  },
  {
   "cell_type": "code",
   "execution_count": null,
   "metadata": {},
   "outputs": [],
   "source": [
    "mergoni_scopus_step_0_df = sh.retrieve_results_from_list_of_queries(\n",
    "    list_of_queries=[q.mergoni_scopus_query],\n",
    "    file_name='mergoni_scopus_step_0',\n",
    "    max_date='2021-01-01')"
   ]
  },
  {
   "cell_type": "code",
   "execution_count": null,
   "metadata": {},
   "outputs": [],
   "source": [
    "mergoni_scopus_step_1_df = sh.retrieve_results_from_list_of_queries(\n",
    "    list_of_queries=[q.mergoni_scopus_step_1_query],\n",
    "    file_name='mergoni_scopus_step_1',\n",
    "    max_date='2021-01-01')"
   ]
  },
  {
   "cell_type": "code",
   "execution_count": null,
   "metadata": {},
   "outputs": [],
   "source": [
    "mergoni_scopus_step_2_df__weird = sh.retrieve_results_from_list_of_queries(\n",
    "    list_of_queries=q.mergoni_scopus_step_2_queries_weird,\n",
    "    file_name='mergoni_scopus_step_2__weird',\n",
    "    max_date='2021-02-01')"
   ]
  },
  {
   "cell_type": "code",
   "execution_count": null,
   "metadata": {},
   "outputs": [],
   "source": [
    "mergoni_scopus_step_2_df__non_weird = sh.retrieve_results_from_list_of_queries(\n",
    "    list_of_queries=q.mergoni_scopus_step_2_queries_non_weird,\n",
    "    file_name='mergoni_scopus_step_2__non_weird',\n",
    "    max_date='2021-02-01')"
   ]
  }
 ],
 "metadata": {
  "kernelspec": {
   "display_name": ".venv",
   "language": "python",
   "name": "python3"
  },
  "language_info": {
   "codemirror_mode": {
    "name": "ipython",
    "version": 3
   },
   "file_extension": ".py",
   "mimetype": "text/x-python",
   "name": "python",
   "nbconvert_exporter": "python",
   "pygments_lexer": "ipython3",
   "version": "3.11.3"
  },
  "orig_nbformat": 4
 },
 "nbformat": 4,
 "nbformat_minor": 2
}
