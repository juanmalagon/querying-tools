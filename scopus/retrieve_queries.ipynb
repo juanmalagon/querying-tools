{
 "cells": [
  {
   "cell_type": "markdown",
   "metadata": {},
   "source": [
    "Define environment variables and handler"
   ]
  },
  {
   "cell_type": "code",
   "execution_count": null,
   "metadata": {},
   "outputs": [],
   "source": [
    "%run ../env_variables.py"
   ]
  },
  {
   "cell_type": "markdown",
   "metadata": {},
   "source": [
    "Import required libraries"
   ]
  },
  {
   "cell_type": "code",
   "execution_count": null,
   "metadata": {},
   "outputs": [],
   "source": [
    "import pandas as pd"
   ]
  },
  {
   "cell_type": "code",
   "execution_count": null,
   "metadata": {},
   "outputs": [],
   "source": [
    "import helpers.queries as q\n",
    "import helpers.scopus_helpers as sh\n",
    "from helpers import handler as h"
   ]
  },
  {
   "cell_type": "code",
   "execution_count": null,
   "metadata": {},
   "outputs": [],
   "source": [
    "author = 'mergoni'\n",
    "max_date = '2021-02-01'\n",
    "file_name_prefix = author + '_scopus_'"
   ]
  },
  {
   "cell_type": "markdown",
   "metadata": {},
   "source": [
    "Retrieve original results from Scopus API"
   ]
  },
  {
   "cell_type": "code",
   "execution_count": null,
   "metadata": {},
   "outputs": [],
   "source": [
    "original_df = sh.retrieve_results_from_list_of_queries(\n",
    "    list_of_queries = [q.mergoni_scopus_original_query],\n",
    "    max_date = max_date)"
   ]
  },
  {
   "cell_type": "markdown",
   "metadata": {},
   "source": [
    "Retrieve results after applying steps 1 and 2"
   ]
  },
  {
   "cell_type": "code",
   "execution_count": null,
   "metadata": {},
   "outputs": [],
   "source": [
    "lang_bias_helper_df = sh.retrieve_results_from_list_of_queries(\n",
    "    list_of_queries = [q.mergoni_scopus_lang_bias_helper_query],\n",
    "    max_date = max_date)"
   ]
  },
  {
   "cell_type": "code",
   "execution_count": null,
   "metadata": {},
   "outputs": [],
   "source": [
    "local_bias_helper_df__weird = sh.retrieve_results_from_list_of_queries(\n",
    "    list_of_queries = q.mergoni_scopus_local_bias_helper_queries_weird,\n",
    "    max_date = max_date)"
   ]
  },
  {
   "cell_type": "code",
   "execution_count": null,
   "metadata": {},
   "outputs": [],
   "source": [
    "local_bias_helper_df__non_weird = sh.retrieve_results_from_list_of_queries(\n",
    "    list_of_queries = q.mergoni_scopus_local_bias_helper_queries_non_weird,\n",
    "    max_date = max_date)"
   ]
  },
  {
   "cell_type": "markdown",
   "metadata": {},
   "source": [
    "Analyze the difference between the original results and the new ones"
   ]
  },
  {
   "cell_type": "code",
   "execution_count": null,
   "metadata": {},
   "outputs": [],
   "source": [
    "lang_bias_helper_new_records_df = lang_bias_helper_df[\n",
    "    ~lang_bias_helper_df['dc:identifier'].isin(original_df['dc:identifier'])\n",
    "    ].copy().reset_index(drop=True)"
   ]
  },
  {
   "cell_type": "code",
   "execution_count": null,
   "metadata": {},
   "outputs": [],
   "source": [
    "local_bias_helper__non_weird_new_records_df = local_bias_helper_df__non_weird[\n",
    "    ~local_bias_helper_df__non_weird['dc:identifier'].isin(original_df['dc:identifier'])\n",
    "    ].copy().reset_index(drop=True)"
   ]
  },
  {
   "cell_type": "code",
   "execution_count": null,
   "metadata": {},
   "outputs": [],
   "source": [
    "local_bias_helper__weird_new_records_df = local_bias_helper_df__weird[\n",
    "    ~local_bias_helper_df__weird['dc:identifier'].isin(original_df['dc:identifier'])\n",
    "    ].copy().reset_index(drop=True)"
   ]
  },
  {
   "cell_type": "code",
   "execution_count": null,
   "metadata": {},
   "outputs": [],
   "source": [
    "df_dict = {\n",
    "    'original': original_df,\n",
    "    'lang_bias_helper': lang_bias_helper_df,\n",
    "    'local_bias_helper__non_weird': local_bias_helper_df__non_weird,\n",
    "    'local_bias_helper__weird': local_bias_helper_df__weird,\n",
    "    'lang_bias_helper_new_records': lang_bias_helper_new_records_df,\n",
    "    'local_bias_helper__non_weird_new_records': local_bias_helper__non_weird_new_records_df,\n",
    "    'local_bias_helper__weird_new_records': local_bias_helper__weird_new_records_df\n",
    "    }"
   ]
  },
  {
   "cell_type": "code",
   "execution_count": null,
   "metadata": {},
   "outputs": [],
   "source": [
    "if h.save_to_csv:\n",
    "    sh.export_to_csv(original_df, file_name_prefix + 'original')\n",
    "    sh.export_to_csv(lang_bias_helper_df, file_name_prefix + 'lang_bias_helper')\n",
    "    sh.export_to_csv(local_bias_helper_df__weird, file_name_prefix + 'local_bias_helper__weird')\n",
    "    sh.export_to_csv(local_bias_helper_df__non_weird, file_name_prefix + 'local_bias_helper__non_weird')\n",
    "    sh.export_to_csv(lang_bias_helper_new_records_df, file_name_prefix + 'lang_bias_helper_new_records')\n",
    "    sh.export_to_csv(local_bias_helper__non_weird_new_records_df,\n",
    "                    file_name_prefix + 'local_bias_helper__non_weird_new_records')\n",
    "    sh.export_to_csv(local_bias_helper__weird_new_records_df,\n",
    "                    file_name_prefix + 'local_bias_helper__weird_new_records')"
   ]
  },
  {
   "cell_type": "code",
   "execution_count": null,
   "metadata": {},
   "outputs": [],
   "source": [
    "report = dict()"
   ]
  },
  {
   "cell_type": "code",
   "execution_count": null,
   "metadata": {},
   "outputs": [],
   "source": [
    "for key, value in df_dict.items():\n",
    "    report[key] = len(value)\n",
    "    report[key + '_localized'] = len(value[value['localization_in_title']])"
   ]
  },
  {
   "cell_type": "code",
   "execution_count": null,
   "metadata": {},
   "outputs": [],
   "source": [
    "report_df = pd.DataFrame.from_dict(\n",
    "    report, orient='index', columns=['count']).reset_index()"
   ]
  },
  {
   "cell_type": "code",
   "execution_count": null,
   "metadata": {},
   "outputs": [],
   "source": [
    "sh.export_to_csv(report_df, file_name_prefix + 'report')"
   ]
  },
  {
   "cell_type": "code",
   "execution_count": null,
   "metadata": {},
   "outputs": [],
   "source": [
    "lang_bias_helper_new_records_df['dc:title'].to_clipboard(index=False, header=False)"
   ]
  },
  {
   "cell_type": "code",
   "execution_count": null,
   "metadata": {},
   "outputs": [],
   "source": []
  }
 ],
 "metadata": {
  "kernelspec": {
   "display_name": ".venv",
   "language": "python",
   "name": "python3"
  },
  "language_info": {
   "codemirror_mode": {
    "name": "ipython",
    "version": 3
   },
   "file_extension": ".py",
   "mimetype": "text/x-python",
   "name": "python",
   "nbconvert_exporter": "python",
   "pygments_lexer": "ipython3",
   "version": "3.11.3"
  },
  "orig_nbformat": 4
 },
 "nbformat": 4,
 "nbformat_minor": 2
}
