{
 "cells": [
  {
   "cell_type": "markdown",
   "metadata": {},
   "source": [
    "Define environment variables and handler"
   ]
  },
  {
   "cell_type": "code",
   "execution_count": null,
   "metadata": {},
   "outputs": [],
   "source": [
    "%run ../env_variables.py"
   ]
  },
  {
   "cell_type": "markdown",
   "metadata": {},
   "source": [
    "Import required libraries"
   ]
  },
  {
   "cell_type": "code",
   "execution_count": null,
   "metadata": {},
   "outputs": [],
   "source": [
    "import helpers.queries as q\n",
    "import helpers.scopus_helpers as sh\n",
    "from helpers import handler as h"
   ]
  },
  {
   "cell_type": "code",
   "execution_count": null,
   "metadata": {},
   "outputs": [],
   "source": [
    "author = 'mergoni'\n",
    "max_date = '2021-02-01'\n",
    "file_name_prefix = author + '_scopus_'"
   ]
  },
  {
   "cell_type": "markdown",
   "metadata": {},
   "source": [
    "Retrieve original results from Scopus API"
   ]
  },
  {
   "cell_type": "code",
   "execution_count": null,
   "metadata": {},
   "outputs": [],
   "source": [
    "step_0_df = sh.retrieve_results_from_list_of_queries(\n",
    "    list_of_queries = [q.mergoni_scopus_step_0_query],\n",
    "    max_date = max_date)"
   ]
  },
  {
   "cell_type": "code",
   "execution_count": null,
   "metadata": {},
   "outputs": [],
   "source": [
    "len(step_0_df)"
   ]
  },
  {
   "cell_type": "markdown",
   "metadata": {},
   "source": [
    "Retrieve results after applying steps 1 and 2"
   ]
  },
  {
   "cell_type": "code",
   "execution_count": null,
   "metadata": {},
   "outputs": [],
   "source": [
    "step_1_df = sh.retrieve_results_from_list_of_queries(\n",
    "    list_of_queries = [q.mergoni_scopus_step_1_query],\n",
    "    max_date = max_date)"
   ]
  },
  {
   "cell_type": "code",
   "execution_count": null,
   "metadata": {},
   "outputs": [],
   "source": [
    "step_2_df__weird = sh.retrieve_results_from_list_of_queries(\n",
    "    list_of_queries = q.mergoni_scopus_step_2_queries_weird,\n",
    "    max_date = max_date)"
   ]
  },
  {
   "cell_type": "code",
   "execution_count": null,
   "metadata": {},
   "outputs": [],
   "source": [
    "step_2_df__non_weird = sh.retrieve_results_from_list_of_queries(\n",
    "    list_of_queries = q.mergoni_scopus_step_2_queries_non_weird,\n",
    "    max_date = max_date)"
   ]
  },
  {
   "cell_type": "markdown",
   "metadata": {},
   "source": [
    "Analyze the difference between the original results and the new ones"
   ]
  },
  {
   "cell_type": "code",
   "execution_count": null,
   "metadata": {},
   "outputs": [],
   "source": [
    "step_1_new_records_df = step_1_df[\n",
    "    ~step_1_df['dc:identifier'].isin(step_0_df['dc:identifier'])\n",
    "    ].copy().reset_index(drop=True)"
   ]
  },
  {
   "cell_type": "code",
   "execution_count": null,
   "metadata": {},
   "outputs": [],
   "source": [
    "step_2__non_weird_new_records_df = step_2_df__non_weird[\n",
    "    ~step_2_df__non_weird['dc:identifier'].isin(step_0_df['dc:identifier'])\n",
    "    ].copy().reset_index(drop=True)"
   ]
  },
  {
   "cell_type": "code",
   "execution_count": null,
   "metadata": {},
   "outputs": [],
   "source": [
    "step_2__weird_new_records_df = step_2_df__weird[\n",
    "    ~step_2_df__weird['dc:identifier'].isin(step_0_df['dc:identifier'])\n",
    "    ].copy().reset_index(drop=True)"
   ]
  },
  {
   "cell_type": "code",
   "execution_count": null,
   "metadata": {},
   "outputs": [],
   "source": [
    "df_dict = {\n",
    "    'step_0': step_0_df,\n",
    "    'step_1': step_1_df,\n",
    "    'step_2__non_weird': step_2_df__non_weird,\n",
    "    'step_2__weird': step_2_df__weird,\n",
    "    'step_1_new_records': step_1_new_records_df,\n",
    "    'step_2__non_weird_new_records': step_2__non_weird_new_records_df,\n",
    "    'step_2__weird_new_records': step_2__weird_new_records_df\n",
    "    }"
   ]
  },
  {
   "cell_type": "code",
   "execution_count": null,
   "metadata": {},
   "outputs": [],
   "source": [
    "if h.save_to_csv:\n",
    "    sh.export_to_csv(step_0_df, file_name_prefix + 'step_0')\n",
    "    sh.export_to_csv(step_1_df, file_name_prefix + 'step_1')\n",
    "    sh.export_to_csv(step_2_df__weird, file_name_prefix + 'step_2__weird')\n",
    "    sh.export_to_csv(step_2_df__non_weird, file_name_prefix + 'step_2__non_weird')\n",
    "    sh.export_to_csv(step_1_new_records_df, file_name_prefix + 'step_1_new_records')\n",
    "    sh.export_to_csv(step_2__non_weird_new_records_df,\n",
    "                    file_name_prefix + 'step_2__non_weird_new_records')\n",
    "    sh.export_to_csv(step_2__weird_new_records_df,\n",
    "                    file_name_prefix + 'step_2__weird_new_records')"
   ]
  },
  {
   "cell_type": "code",
   "execution_count": null,
   "metadata": {},
   "outputs": [],
   "source": [
    "report = dict()"
   ]
  },
  {
   "cell_type": "code",
   "execution_count": null,
   "metadata": {},
   "outputs": [],
   "source": [
    "for key, value in df_dict.items():\n",
    "    report[key] = len(value)\n",
    "    report[key + '_localized'] = len(value[value['localization_in_title']])"
   ]
  },
  {
   "cell_type": "code",
   "execution_count": null,
   "metadata": {},
   "outputs": [],
   "source": [
    "import pandas as pd"
   ]
  },
  {
   "cell_type": "code",
   "execution_count": null,
   "metadata": {},
   "outputs": [],
   "source": [
    "report_df = pd.DataFrame.from_dict(\n",
    "    report, orient='index', columns=['count']).reset_index()"
   ]
  },
  {
   "cell_type": "code",
   "execution_count": null,
   "metadata": {},
   "outputs": [],
   "source": [
    "sh.export_to_csv(report_df, file_name_prefix + 'report')"
   ]
  },
  {
   "cell_type": "code",
   "execution_count": null,
   "metadata": {},
   "outputs": [],
   "source": []
  }
 ],
 "metadata": {
  "kernelspec": {
   "display_name": ".venv",
   "language": "python",
   "name": "python3"
  },
  "language_info": {
   "codemirror_mode": {
    "name": "ipython",
    "version": 3
   },
   "file_extension": ".py",
   "mimetype": "text/x-python",
   "name": "python",
   "nbconvert_exporter": "python",
   "pygments_lexer": "ipython3",
   "version": "3.11.3"
  },
  "orig_nbformat": 4
 },
 "nbformat": 4,
 "nbformat_minor": 2
}
