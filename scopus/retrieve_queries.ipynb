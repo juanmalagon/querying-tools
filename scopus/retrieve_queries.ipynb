{
 "cells": [
  {
   "cell_type": "markdown",
   "metadata": {},
   "source": [
    "Define environment variables and handler"
   ]
  },
  {
   "cell_type": "code",
   "execution_count": 1,
   "metadata": {},
   "outputs": [],
   "source": [
    "%run ../env_variables.py"
   ]
  },
  {
   "cell_type": "markdown",
   "metadata": {},
   "source": [
    "Import required libraries"
   ]
  },
  {
   "cell_type": "code",
   "execution_count": 2,
   "metadata": {},
   "outputs": [
    {
     "name": "stderr",
     "output_type": "stream",
     "text": [
      "2023-09-06 21:41:38,638 INFO [handler|__init__]Initializing handler\n",
      "2023-09-06 21:41:38,638 INFO [handler|__init__]Run date: 2023_09_06_21_41_38\n",
      "2023-09-06 21:41:38,639 INFO [handler|__init__]Run serial: f8b073c5-425c-4614-9706-440a2810de6a\n",
      "2023-09-06 21:41:38,639 INFO [handler|__init__]Environment variables:\n",
      "2023-09-06 21:41:38,640 INFO [handler|__init__]project_dir: /Users/juanmalagon/repos/unbiased-request\n",
      "2023-09-06 21:41:38,640 INFO [handler|__init__]scopus_config_file: /Users/juanmalagon/repos/unbiased-request/scopus/config.json\n",
      "2023-09-06 21:41:38,640 INFO [handler|__init__]scopus_data_dir: /Users/juanmalagon/repos/unbiased-request/data/\n",
      "2023-09-06 21:41:38,641 INFO [handler|__init__]save_to_csv: 1\n",
      "2023-09-06 21:41:39,085 INFO [log_util|get_logger]Module loaded.\n",
      "2023-09-06 21:41:39,086 INFO [log_util|get_logger]Module loaded.\n",
      "2023-09-06 21:41:39,086 INFO [log_util|get_logger]Module loaded.\n"
     ]
    }
   ],
   "source": [
    "import helpers.queries as q\n",
    "import helpers.scopus_helpers as sh\n",
    "from helpers import handler as h"
   ]
  },
  {
   "cell_type": "code",
   "execution_count": 3,
   "metadata": {},
   "outputs": [],
   "source": [
    "author = 'mergoni'\n",
    "max_date = '2021-02-01'\n",
    "file_name_prefix = author + '_scopus_'"
   ]
  },
  {
   "cell_type": "code",
   "execution_count": 4,
   "metadata": {},
   "outputs": [
    {
     "name": "stderr",
     "output_type": "stream",
     "text": [
      "2023-09-06 21:48:33,183 INFO [scopus_helpers|retrieve_results_from_query]Retrieving results from Scopus API for query: ALL({data envelopment analysis}) AND ALL({policy evaluation}) AND PUBYEAR > 1956 AND PUBYEAR < 2022 AND LANGUAGE(english) AND SRCTYPE(j)\n",
      "2023-09-06 21:48:33,186 INFO [elsclient|exec_request]Sending GET request to https://api.elsevier.com/content/search/scopus?query=ALL%28%7Bdata+envelopment+analysis%7D%29+AND+ALL%28%7Bpolicy+evaluation%7D%29+AND+PUBYEAR+%3E+1956+AND+PUBYEAR+%3C+2022+AND+LANGUAGE%28english%29+AND+SRCTYPE%28j%29\n",
      "2023-09-06 21:48:43,400 INFO [elsclient|exec_request]Sending GET request to https://api.elsevier.com/content/search/scopus?start=25&count=25&query=ALL%28%7Bdata+envelopment+analysis%7D%29+AND+ALL%28%7Bpolicy+evaluation%7D%29+AND+PUBYEAR+%3E+1956+AND+PUBYEAR+%3C+2022+AND+LANGUAGE%28english%29+AND+SRCTYPE%28j%29\n",
      "2023-09-06 21:48:52,821 INFO [elsclient|exec_request]Sending GET request to https://api.elsevier.com/content/search/scopus?start=50&count=25&query=ALL%28%7Bdata+envelopment+analysis%7D%29+AND+ALL%28%7Bpolicy+evaluation%7D%29+AND+PUBYEAR+%3E+1956+AND+PUBYEAR+%3C+2022+AND+LANGUAGE%28english%29+AND+SRCTYPE%28j%29\n",
      "2023-09-06 21:48:57,323 INFO [elsclient|exec_request]Sending GET request to https://api.elsevier.com/content/search/scopus?start=75&count=25&query=ALL%28%7Bdata+envelopment+analysis%7D%29+AND+ALL%28%7Bpolicy+evaluation%7D%29+AND+PUBYEAR+%3E+1956+AND+PUBYEAR+%3C+2022+AND+LANGUAGE%28english%29+AND+SRCTYPE%28j%29\n",
      "2023-09-06 21:49:05,109 INFO [elsclient|exec_request]Sending GET request to https://api.elsevier.com/content/search/scopus?start=100&count=25&query=ALL%28%7Bdata+envelopment+analysis%7D%29+AND+ALL%28%7Bpolicy+evaluation%7D%29+AND+PUBYEAR+%3E+1956+AND+PUBYEAR+%3C+2022+AND+LANGUAGE%28english%29+AND+SRCTYPE%28j%29\n",
      "2023-09-06 21:49:13,708 INFO [elsclient|exec_request]Sending GET request to https://api.elsevier.com/content/search/scopus?start=125&count=25&query=ALL%28%7Bdata+envelopment+analysis%7D%29+AND+ALL%28%7Bpolicy+evaluation%7D%29+AND+PUBYEAR+%3E+1956+AND+PUBYEAR+%3C+2022+AND+LANGUAGE%28english%29+AND+SRCTYPE%28j%29\n",
      "2023-09-06 21:49:17,603 INFO [elsclient|exec_request]Sending GET request to https://api.elsevier.com/content/search/scopus?start=150&count=25&query=ALL%28%7Bdata+envelopment+analysis%7D%29+AND+ALL%28%7Bpolicy+evaluation%7D%29+AND+PUBYEAR+%3E+1956+AND+PUBYEAR+%3C+2022+AND+LANGUAGE%28english%29+AND+SRCTYPE%28j%29\n",
      "2023-09-06 21:49:20,368 INFO [elsclient|exec_request]Sending GET request to https://api.elsevier.com/content/search/scopus?start=175&count=25&query=ALL%28%7Bdata+envelopment+analysis%7D%29+AND+ALL%28%7Bpolicy+evaluation%7D%29+AND+PUBYEAR+%3E+1956+AND+PUBYEAR+%3C+2022+AND+LANGUAGE%28english%29+AND+SRCTYPE%28j%29\n",
      "2023-09-06 21:49:21,220 INFO [utils|recast_df]Converting prism:coverDate\n",
      "2023-09-06 21:49:21,224 INFO [scopus_helpers|retrieve_results_from_query]194 results retrieved from Scopus API.\n",
      "2023-09-06 21:49:21,224 INFO [scopus_helpers|convert_results_to_dataframe]Converting 194 results to dataframe.\n",
      "2023-09-06 21:49:21,230 INFO [scopus_helpers|convert_results_to_dataframe]Deduplicated results stored in dataframe: 194\n",
      "2023-09-06 21:49:21,230 INFO [scopus_helpers|convert_results_to_dataframe]194 results converted to dataframe.\n",
      "2023-09-06 21:49:21,230 INFO [scopus_helpers|retrieve_results_from_query]Query results converted to dataframe.\n"
     ]
    }
   ],
   "source": [
    "test_df = sh.retrieve_results_from_query(\n",
    "    q.mergoni_scopus_step_0_query\n",
    ")"
   ]
  },
  {
   "cell_type": "code",
   "execution_count": 5,
   "metadata": {},
   "outputs": [
    {
     "data": {
      "text/html": [
       "<div>\n",
       "<style scoped>\n",
       "    .dataframe tbody tr th:only-of-type {\n",
       "        vertical-align: middle;\n",
       "    }\n",
       "\n",
       "    .dataframe tbody tr th {\n",
       "        vertical-align: top;\n",
       "    }\n",
       "\n",
       "    .dataframe thead th {\n",
       "        text-align: right;\n",
       "    }\n",
       "</style>\n",
       "<table border=\"1\" class=\"dataframe\">\n",
       "  <thead>\n",
       "    <tr style=\"text-align: right;\">\n",
       "      <th></th>\n",
       "      <th>dc:identifier</th>\n",
       "      <th>dc:title</th>\n",
       "      <th>dc:creator</th>\n",
       "      <th>prism:publicationName</th>\n",
       "      <th>prism:coverDate</th>\n",
       "      <th>prism:aggregationType</th>\n",
       "      <th>subtypeDescription</th>\n",
       "      <th>prism:doi</th>\n",
       "      <th>eid</th>\n",
       "      <th>localization_in_title_or_abstract</th>\n",
       "    </tr>\n",
       "  </thead>\n",
       "  <tbody>\n",
       "    <tr>\n",
       "      <th>0</th>\n",
       "      <td>SCOPUS_ID:85122521349</td>\n",
       "      <td>Sustainability Assessment of Electricity Suppl...</td>\n",
       "      <td>Pouralizadeh M.</td>\n",
       "      <td>Smart and Sustainable Manufacturing Systems</td>\n",
       "      <td>2021-12-29</td>\n",
       "      <td>Journal</td>\n",
       "      <td>Article</td>\n",
       "      <td>10.1520/SSMS20210004</td>\n",
       "      <td>2-s2.0-85122521349</td>\n",
       "      <td>False</td>\n",
       "    </tr>\n",
       "    <tr>\n",
       "      <th>1</th>\n",
       "      <td>SCOPUS_ID:85115771115</td>\n",
       "      <td>Resource curse and green economic growth</td>\n",
       "      <td>Cheng Z.</td>\n",
       "      <td>Resources Policy</td>\n",
       "      <td>2021-12-01</td>\n",
       "      <td>Journal</td>\n",
       "      <td>Article</td>\n",
       "      <td>10.1016/j.resourpol.2021.102325</td>\n",
       "      <td>2-s2.0-85115771115</td>\n",
       "      <td>False</td>\n",
       "    </tr>\n",
       "    <tr>\n",
       "      <th>2</th>\n",
       "      <td>SCOPUS_ID:85113247106</td>\n",
       "      <td>The impact mechanism of the ETS on CO&lt;inf&gt;2&lt;/i...</td>\n",
       "      <td>Zhang P.Y.J.</td>\n",
       "      <td>Technological Forecasting and Social Change</td>\n",
       "      <td>2021-12-01</td>\n",
       "      <td>Journal</td>\n",
       "      <td>Article</td>\n",
       "      <td>10.1016/j.techfore.2021.121114</td>\n",
       "      <td>2-s2.0-85113247106</td>\n",
       "      <td>False</td>\n",
       "    </tr>\n",
       "    <tr>\n",
       "      <th>3</th>\n",
       "      <td>SCOPUS_ID:85100100816</td>\n",
       "      <td>BIBLIOMETRIC TECHNIQUES AND THEIR USE IN BUSIN...</td>\n",
       "      <td>Rousseau S.</td>\n",
       "      <td>Journal of Economic Surveys</td>\n",
       "      <td>2021-12-01</td>\n",
       "      <td>Journal</td>\n",
       "      <td>Conference Paper</td>\n",
       "      <td>10.1111/joes.12415</td>\n",
       "      <td>2-s2.0-85100100816</td>\n",
       "      <td>False</td>\n",
       "    </tr>\n",
       "    <tr>\n",
       "      <th>4</th>\n",
       "      <td>SCOPUS_ID:85117210755</td>\n",
       "      <td>Environmental sustainability assessment in agr...</td>\n",
       "      <td>Soulé E.</td>\n",
       "      <td>Journal of Cleaner Production</td>\n",
       "      <td>2021-11-20</td>\n",
       "      <td>Journal</td>\n",
       "      <td>Review</td>\n",
       "      <td>10.1016/j.jclepro.2021.129291</td>\n",
       "      <td>2-s2.0-85117210755</td>\n",
       "      <td>False</td>\n",
       "    </tr>\n",
       "    <tr>\n",
       "      <th>...</th>\n",
       "      <td>...</td>\n",
       "      <td>...</td>\n",
       "      <td>...</td>\n",
       "      <td>...</td>\n",
       "      <td>...</td>\n",
       "      <td>...</td>\n",
       "      <td>...</td>\n",
       "      <td>...</td>\n",
       "      <td>...</td>\n",
       "      <td>...</td>\n",
       "    </tr>\n",
       "    <tr>\n",
       "      <th>189</th>\n",
       "      <td>SCOPUS_ID:0029479223</td>\n",
       "      <td>AN INTERMEDIATE INPUT MODEL OF DAIRY PRODUCTIO...</td>\n",
       "      <td>Färe R.</td>\n",
       "      <td>Journal of Agricultural Economics</td>\n",
       "      <td>1995-01-01</td>\n",
       "      <td>Journal</td>\n",
       "      <td>Article</td>\n",
       "      <td>10.1111/j.1477-9552.1995.tb00766.x</td>\n",
       "      <td>2-s2.0-0029479223</td>\n",
       "      <td>False</td>\n",
       "    </tr>\n",
       "    <tr>\n",
       "      <th>190</th>\n",
       "      <td>SCOPUS_ID:0028559038</td>\n",
       "      <td>The relation of farm size and government progr...</td>\n",
       "      <td>Whittaker G.</td>\n",
       "      <td>Applied Economics</td>\n",
       "      <td>1994-01-01</td>\n",
       "      <td>Journal</td>\n",
       "      <td>Article</td>\n",
       "      <td>10.1080/00036849400000016</td>\n",
       "      <td>2-s2.0-0028559038</td>\n",
       "      <td>False</td>\n",
       "    </tr>\n",
       "    <tr>\n",
       "      <th>191</th>\n",
       "      <td>SCOPUS_ID:0028036850</td>\n",
       "      <td>Nursing home care in The Netherlands: a nonpar...</td>\n",
       "      <td>Kooreman P.</td>\n",
       "      <td>Journal of Health Economics</td>\n",
       "      <td>1994-01-01</td>\n",
       "      <td>Journal</td>\n",
       "      <td>Article</td>\n",
       "      <td>10.1016/0167-6296(94)90029-9</td>\n",
       "      <td>2-s2.0-0028036850</td>\n",
       "      <td>False</td>\n",
       "    </tr>\n",
       "    <tr>\n",
       "      <th>192</th>\n",
       "      <td>SCOPUS_ID:44949288399</td>\n",
       "      <td>Polyhedral Cone-Ratio DEA Models with an illus...</td>\n",
       "      <td>Charnes A.</td>\n",
       "      <td>Journal of Econometrics</td>\n",
       "      <td>1990-01-01</td>\n",
       "      <td>Journal</td>\n",
       "      <td>Article</td>\n",
       "      <td>10.1016/0304-4076(90)90048-X</td>\n",
       "      <td>2-s2.0-44949288399</td>\n",
       "      <td>False</td>\n",
       "    </tr>\n",
       "    <tr>\n",
       "      <th>193</th>\n",
       "      <td>SCOPUS_ID:38249030369</td>\n",
       "      <td>Some statistical and DEA evaluations of relati...</td>\n",
       "      <td>Ahn T.</td>\n",
       "      <td>Socio-Economic Planning Sciences</td>\n",
       "      <td>1988-01-01</td>\n",
       "      <td>Journal</td>\n",
       "      <td>Article</td>\n",
       "      <td>10.1016/0038-0121(88)90008-0</td>\n",
       "      <td>2-s2.0-38249030369</td>\n",
       "      <td>False</td>\n",
       "    </tr>\n",
       "  </tbody>\n",
       "</table>\n",
       "<p>194 rows × 10 columns</p>\n",
       "</div>"
      ],
      "text/plain": [
       "             dc:identifier                                           dc:title  \\\n",
       "0    SCOPUS_ID:85122521349  Sustainability Assessment of Electricity Suppl...   \n",
       "1    SCOPUS_ID:85115771115           Resource curse and green economic growth   \n",
       "2    SCOPUS_ID:85113247106  The impact mechanism of the ETS on CO<inf>2</i...   \n",
       "3    SCOPUS_ID:85100100816  BIBLIOMETRIC TECHNIQUES AND THEIR USE IN BUSIN...   \n",
       "4    SCOPUS_ID:85117210755  Environmental sustainability assessment in agr...   \n",
       "..                     ...                                                ...   \n",
       "189   SCOPUS_ID:0029479223  AN INTERMEDIATE INPUT MODEL OF DAIRY PRODUCTIO...   \n",
       "190   SCOPUS_ID:0028559038  The relation of farm size and government progr...   \n",
       "191   SCOPUS_ID:0028036850  Nursing home care in The Netherlands: a nonpar...   \n",
       "192  SCOPUS_ID:44949288399  Polyhedral Cone-Ratio DEA Models with an illus...   \n",
       "193  SCOPUS_ID:38249030369  Some statistical and DEA evaluations of relati...   \n",
       "\n",
       "          dc:creator                        prism:publicationName  \\\n",
       "0    Pouralizadeh M.  Smart and Sustainable Manufacturing Systems   \n",
       "1           Cheng Z.                             Resources Policy   \n",
       "2       Zhang P.Y.J.  Technological Forecasting and Social Change   \n",
       "3        Rousseau S.                  Journal of Economic Surveys   \n",
       "4           Soulé E.                Journal of Cleaner Production   \n",
       "..               ...                                          ...   \n",
       "189          Färe R.            Journal of Agricultural Economics   \n",
       "190     Whittaker G.                            Applied Economics   \n",
       "191      Kooreman P.                  Journal of Health Economics   \n",
       "192       Charnes A.                      Journal of Econometrics   \n",
       "193           Ahn T.             Socio-Economic Planning Sciences   \n",
       "\n",
       "    prism:coverDate prism:aggregationType subtypeDescription  \\\n",
       "0        2021-12-29               Journal            Article   \n",
       "1        2021-12-01               Journal            Article   \n",
       "2        2021-12-01               Journal            Article   \n",
       "3        2021-12-01               Journal   Conference Paper   \n",
       "4        2021-11-20               Journal             Review   \n",
       "..              ...                   ...                ...   \n",
       "189      1995-01-01               Journal            Article   \n",
       "190      1994-01-01               Journal            Article   \n",
       "191      1994-01-01               Journal            Article   \n",
       "192      1990-01-01               Journal            Article   \n",
       "193      1988-01-01               Journal            Article   \n",
       "\n",
       "                              prism:doi                 eid  \\\n",
       "0                  10.1520/SSMS20210004  2-s2.0-85122521349   \n",
       "1       10.1016/j.resourpol.2021.102325  2-s2.0-85115771115   \n",
       "2        10.1016/j.techfore.2021.121114  2-s2.0-85113247106   \n",
       "3                    10.1111/joes.12415  2-s2.0-85100100816   \n",
       "4         10.1016/j.jclepro.2021.129291  2-s2.0-85117210755   \n",
       "..                                  ...                 ...   \n",
       "189  10.1111/j.1477-9552.1995.tb00766.x   2-s2.0-0029479223   \n",
       "190           10.1080/00036849400000016   2-s2.0-0028559038   \n",
       "191        10.1016/0167-6296(94)90029-9   2-s2.0-0028036850   \n",
       "192        10.1016/0304-4076(90)90048-X  2-s2.0-44949288399   \n",
       "193        10.1016/0038-0121(88)90008-0  2-s2.0-38249030369   \n",
       "\n",
       "     localization_in_title_or_abstract  \n",
       "0                                False  \n",
       "1                                False  \n",
       "2                                False  \n",
       "3                                False  \n",
       "4                                False  \n",
       "..                                 ...  \n",
       "189                              False  \n",
       "190                              False  \n",
       "191                              False  \n",
       "192                              False  \n",
       "193                              False  \n",
       "\n",
       "[194 rows x 10 columns]"
      ]
     },
     "execution_count": 5,
     "metadata": {},
     "output_type": "execute_result"
    }
   ],
   "source": [
    "test_df"
   ]
  },
  {
   "cell_type": "markdown",
   "metadata": {},
   "source": [
    "Retrieve original results from Scopus API"
   ]
  },
  {
   "cell_type": "code",
   "execution_count": null,
   "metadata": {},
   "outputs": [],
   "source": [
    "step_0_df = sh.retrieve_results_from_list_of_queries(\n",
    "    list_of_queries = [q.mergoni_scopus_step_0_query],\n",
    "    max_date = max_date)"
   ]
  },
  {
   "cell_type": "code",
   "execution_count": null,
   "metadata": {},
   "outputs": [],
   "source": [
    "len(step_0_df)"
   ]
  },
  {
   "cell_type": "markdown",
   "metadata": {},
   "source": [
    "Retrieve results after applying steps 1 and 2"
   ]
  },
  {
   "cell_type": "code",
   "execution_count": null,
   "metadata": {},
   "outputs": [],
   "source": [
    "step_1_df = sh.retrieve_results_from_list_of_queries(\n",
    "    list_of_queries = [q.mergoni_scopus_step_1_query],\n",
    "    max_date = max_date)"
   ]
  },
  {
   "cell_type": "code",
   "execution_count": null,
   "metadata": {},
   "outputs": [],
   "source": [
    "step_2_df__weird = sh.retrieve_results_from_list_of_queries(\n",
    "    list_of_queries = q.mergoni_scopus_step_2_queries_weird,\n",
    "    max_date = max_date)"
   ]
  },
  {
   "cell_type": "code",
   "execution_count": null,
   "metadata": {},
   "outputs": [],
   "source": [
    "step_2_df__non_weird = sh.retrieve_results_from_list_of_queries(\n",
    "    list_of_queries = q.mergoni_scopus_step_2_queries_non_weird,\n",
    "    max_date = max_date)"
   ]
  },
  {
   "cell_type": "markdown",
   "metadata": {},
   "source": [
    "Analyze the difference between the original results and the new ones"
   ]
  },
  {
   "cell_type": "code",
   "execution_count": null,
   "metadata": {},
   "outputs": [],
   "source": [
    "step_1_new_records_df = step_1_df[\n",
    "    ~step_1_df['dc:identifier'].isin(step_0_df['dc:identifier'])\n",
    "    ].copy().reset_index(drop=True)"
   ]
  },
  {
   "cell_type": "code",
   "execution_count": null,
   "metadata": {},
   "outputs": [],
   "source": [
    "step_2__non_weird_new_records_df = step_2_df__non_weird[\n",
    "    ~step_2_df__non_weird['dc:identifier'].isin(step_0_df['dc:identifier'])\n",
    "    ].copy().reset_index(drop=True)"
   ]
  },
  {
   "cell_type": "code",
   "execution_count": null,
   "metadata": {},
   "outputs": [],
   "source": [
    "step_2__weird_new_records_df = step_2_df__weird[\n",
    "    ~step_2_df__weird['dc:identifier'].isin(step_0_df['dc:identifier'])\n",
    "    ].copy().reset_index(drop=True)"
   ]
  },
  {
   "cell_type": "code",
   "execution_count": null,
   "metadata": {},
   "outputs": [],
   "source": [
    "df_dict = {\n",
    "    'step_0': step_0_df,\n",
    "    'step_1': step_1_df,\n",
    "    'step_2__non_weird': step_2_df__non_weird,\n",
    "    'step_2__weird': step_2_df__weird,\n",
    "    'step_1_new_records': step_1_new_records_df,\n",
    "    'step_2__non_weird_new_records': step_2__non_weird_new_records_df,\n",
    "    'step_2__weird_new_records': step_2__weird_new_records_df\n",
    "    }"
   ]
  },
  {
   "cell_type": "code",
   "execution_count": null,
   "metadata": {},
   "outputs": [],
   "source": [
    "if h.save_to_csv:\n",
    "    sh.export_to_csv(step_0_df, file_name_prefix + 'step_0')\n",
    "    sh.export_to_csv(step_1_df, file_name_prefix + 'step_1')\n",
    "    sh.export_to_csv(step_2_df__weird, file_name_prefix + 'step_2__weird')\n",
    "    sh.export_to_csv(step_2_df__non_weird, file_name_prefix + 'step_2__non_weird')\n",
    "    sh.export_to_csv(step_1_new_records_df, file_name_prefix + 'step_1_new_records')\n",
    "    sh.export_to_csv(step_2__non_weird_new_records_df,\n",
    "                    file_name_prefix + 'step_2__non_weird_new_records')\n",
    "    sh.export_to_csv(step_2__weird_new_records_df,\n",
    "                    file_name_prefix + 'step_2__weird_new_records')"
   ]
  },
  {
   "cell_type": "code",
   "execution_count": null,
   "metadata": {},
   "outputs": [],
   "source": [
    "report = dict()"
   ]
  },
  {
   "cell_type": "code",
   "execution_count": null,
   "metadata": {},
   "outputs": [],
   "source": [
    "for key, value in df_dict.items():\n",
    "    report[key] = len(value)\n",
    "    report[key + '_localized'] = len(value[value['localization_in_title']])"
   ]
  },
  {
   "cell_type": "code",
   "execution_count": null,
   "metadata": {},
   "outputs": [],
   "source": [
    "import pandas as pd"
   ]
  },
  {
   "cell_type": "code",
   "execution_count": null,
   "metadata": {},
   "outputs": [],
   "source": [
    "report_df = pd.DataFrame.from_dict(\n",
    "    report, orient='index', columns=['count']).reset_index()"
   ]
  },
  {
   "cell_type": "code",
   "execution_count": null,
   "metadata": {},
   "outputs": [],
   "source": [
    "sh.export_to_csv(report_df, file_name_prefix + 'report')"
   ]
  },
  {
   "cell_type": "code",
   "execution_count": null,
   "metadata": {},
   "outputs": [],
   "source": [
    "report_df"
   ]
  },
  {
   "cell_type": "code",
   "execution_count": null,
   "metadata": {},
   "outputs": [],
   "source": [
    "step_0_df"
   ]
  },
  {
   "cell_type": "code",
   "execution_count": null,
   "metadata": {},
   "outputs": [],
   "source": []
  }
 ],
 "metadata": {
  "kernelspec": {
   "display_name": ".venv",
   "language": "python",
   "name": "python3"
  },
  "language_info": {
   "codemirror_mode": {
    "name": "ipython",
    "version": 3
   },
   "file_extension": ".py",
   "mimetype": "text/x-python",
   "name": "python",
   "nbconvert_exporter": "python",
   "pygments_lexer": "ipython3",
   "version": "3.11.3"
  },
  "orig_nbformat": 4
 },
 "nbformat": 4,
 "nbformat_minor": 2
}
