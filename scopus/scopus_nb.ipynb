{
 "cells": [
  {
   "cell_type": "code",
   "execution_count": null,
   "metadata": {},
   "outputs": [],
   "source": [
    "%run ../env_variables.py"
   ]
  },
  {
   "cell_type": "code",
   "execution_count": null,
   "metadata": {},
   "outputs": [],
   "source": [
    "import logging\n",
    "import json\n",
    "import pandas as pd\n",
    "\n",
    "import helpers.queries as q\n",
    "from helpers import handler as h"
   ]
  },
  {
   "cell_type": "code",
   "execution_count": null,
   "metadata": {},
   "outputs": [],
   "source": [
    "from elsapy.elsclient import ElsClient\n",
    "from elsapy.elssearch import ElsSearch"
   ]
  },
  {
   "cell_type": "code",
   "execution_count": null,
   "metadata": {},
   "outputs": [],
   "source": [
    "## Load configuration\n",
    "pd.options.display.max_columns = None\n",
    "\n",
    "con_file = open(h.scopus_config_file)\n",
    "config = json.load(con_file)\n",
    "con_file.close()"
   ]
  },
  {
   "cell_type": "code",
   "execution_count": null,
   "metadata": {},
   "outputs": [],
   "source": [
    "## Initialize client\n",
    "client = ElsClient(config['apikey'])"
   ]
  },
  {
   "cell_type": "code",
   "execution_count": null,
   "metadata": {},
   "outputs": [],
   "source": [
    "selected_columns = ['dc:identifier', 'dc:title', 'dc:creator', 'prism:publicationName',\n",
    "                    'prism:coverDate', 'prism:aggregationType', 'subtypeDescription',\n",
    "                    'prism:doi', 'eid']"
   ]
  },
  {
   "cell_type": "code",
   "execution_count": null,
   "metadata": {},
   "outputs": [],
   "source": [
    "def convert_results_to_dataframe(results: list,\n",
    "                                 selected_columns=selected_columns\n",
    "                                 ) -> pd.DataFrame:\n",
    "    \"\"\"Convert results to dataframe.\"\"\"\n",
    "    results_df = pd.DataFrame.from_records(results)\n",
    "    results_df = results_df[selected_columns]\n",
    "    results_df = results_df.drop_duplicates(subset=['dc:identifier'])\n",
    "    results_df = results_df.reset_index(drop=True)\n",
    "    logging.info(f'Number of deduplicated results: {len(results_df)}')\n",
    "    return results_df"
   ]
  },
  {
   "cell_type": "code",
   "execution_count": null,
   "metadata": {},
   "outputs": [],
   "source": [
    "def retrieve_results(query: str) -> pd.DataFrame:\n",
    "    \"\"\"Retrieve results from Scopus API.\"\"\"\n",
    "    # Initialize document search object and execute search\n",
    "    doc_srch = ElsSearch(query, 'scopus')\n",
    "    doc_srch.execute(client, get_all=True)\n",
    "    # Retrieve results\n",
    "    results = doc_srch.results\n",
    "    logging.info(f'{len(results)} results retrieved from Scopus API.')\n",
    "    results_df = convert_results_to_dataframe(results)\n",
    "    return results_df"
   ]
  },
  {
   "cell_type": "code",
   "execution_count": null,
   "metadata": {},
   "outputs": [],
   "source": [
    "mergoni_scopus_df = retrieve_results(q.mergoni_scopus_query)\n",
    "mergoni_scopus_df.to_csv('data/mergoni_scopus.csv', index=False)"
   ]
  },
  {
   "cell_type": "code",
   "execution_count": null,
   "metadata": {},
   "outputs": [],
   "source": [
    "mergoni_scopus_step_1_df = retrieve_results(q.mergoni_scopus_step_1_query)\n",
    "mergoni_scopus_step_1_df.to_csv('data/mergoni_scopus_step_1.csv', index=False)"
   ]
  },
  {
   "cell_type": "code",
   "execution_count": null,
   "metadata": {},
   "outputs": [],
   "source": [
    "mergoni_scopus_step_2_df__countries = pd.concat([\n",
    "    retrieve_results(query) for query in q.mergoni_scopus_step_2_queries__countries\n",
    "    ])"
   ]
  },
  {
   "cell_type": "code",
   "execution_count": null,
   "metadata": {},
   "outputs": [],
   "source": [
    "def prepare_concatenated_df(\n",
    "        df: pd.DataFrame,\n",
    "        max_date = '2022-02-01'\n",
    "        ) -> pd.DataFrame:\n",
    "    \"\"\"Prepare concatenated dataframe.\"\"\"\n",
    "    df.drop_duplicates(subset=['dc:identifier'], inplace=True)\n",
    "    df.reset_index(drop=True, inplace=True)\n",
    "    df = df[df['prism:coverDate'] < max_date]\n",
    "    return df"
   ]
  },
  {
   "cell_type": "code",
   "execution_count": null,
   "metadata": {},
   "outputs": [],
   "source": [
    "mergoni_scopus_step_2_df__countries = prepare_concatenated_df(\n",
    "    mergoni_scopus_step_2_df__countries)"
   ]
  },
  {
   "cell_type": "code",
   "execution_count": null,
   "metadata": {},
   "outputs": [],
   "source": [
    "mergoni_scopus_step_2_df__countries.to_csv(\n",
    "    'data/mergoni_scopus_step_2_df__countries.csv', index=False\n",
    "    )"
   ]
  },
  {
   "cell_type": "code",
   "execution_count": null,
   "metadata": {},
   "outputs": [],
   "source": [
    "mergoni_scopus_step_2_df__demonyms = pd.concat([\n",
    "    retrieve_results(query) for query in q.mergoni_scopus_step_2_queries__demonyms\n",
    "    ])"
   ]
  },
  {
   "cell_type": "code",
   "execution_count": null,
   "metadata": {},
   "outputs": [],
   "source": [
    "mergoni_scopus_step_2_df__demonyms = prepare_concatenated_df(\n",
    "    mergoni_scopus_step_2_df__demonyms)"
   ]
  },
  {
   "cell_type": "code",
   "execution_count": null,
   "metadata": {},
   "outputs": [],
   "source": [
    "mergoni_scopus_step_2_df__demonyms.to_csv(\n",
    "    'data/mergoni_scopus_step_2_df__demonyms.csv', index=False\n",
    "    )"
   ]
  },
  {
   "cell_type": "code",
   "execution_count": null,
   "metadata": {},
   "outputs": [],
   "source": [
    "mergoni_scopus_step_2_df = pd.concat([\n",
    "    mergoni_scopus_step_2_df__countries,\n",
    "    mergoni_scopus_step_2_df__demonyms\n",
    "    ])"
   ]
  },
  {
   "cell_type": "code",
   "execution_count": null,
   "metadata": {},
   "outputs": [],
   "source": [
    "mergoni_scopus_step_2_df = prepare_concatenated_df(mergoni_scopus_step_2_df)"
   ]
  },
  {
   "cell_type": "code",
   "execution_count": null,
   "metadata": {},
   "outputs": [],
   "source": [
    "mergoni_scopus_step_2_df.to_csv(\n",
    "    'data/mergoni_scopus_step_2_df.csv', index=False\n",
    "    )"
   ]
  },
  {
   "cell_type": "code",
   "execution_count": null,
   "metadata": {},
   "outputs": [],
   "source": []
  }
 ],
 "metadata": {
  "kernelspec": {
   "display_name": ".venv",
   "language": "python",
   "name": "python3"
  },
  "language_info": {
   "codemirror_mode": {
    "name": "ipython",
    "version": 3
   },
   "file_extension": ".py",
   "mimetype": "text/x-python",
   "name": "python",
   "nbconvert_exporter": "python",
   "pygments_lexer": "ipython3",
   "version": "3.11.3"
  },
  "orig_nbformat": 4
 },
 "nbformat": 4,
 "nbformat_minor": 2
}
