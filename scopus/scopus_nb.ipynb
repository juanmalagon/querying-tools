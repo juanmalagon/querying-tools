{
 "cells": [
  {
   "cell_type": "code",
   "execution_count": null,
   "metadata": {},
   "outputs": [],
   "source": [
    "%run ../env_variables.py"
   ]
  },
  {
   "cell_type": "code",
   "execution_count": null,
   "metadata": {},
   "outputs": [],
   "source": [
    "import logging\n",
    "import json\n",
    "import pandas as pd\n",
    "\n",
    "import helpers.queries as q\n",
    "import helpers.country_lists as cl\n",
    "from helpers import handler as h"
   ]
  },
  {
   "cell_type": "code",
   "execution_count": null,
   "metadata": {},
   "outputs": [],
   "source": [
    "from elsapy.elsclient import ElsClient\n",
    "from elsapy.elssearch import ElsSearch"
   ]
  },
  {
   "cell_type": "code",
   "execution_count": null,
   "metadata": {},
   "outputs": [],
   "source": [
    "## Load configuration\n",
    "pd.options.display.max_columns = None\n",
    "\n",
    "con_file = open(h.scopus_config_file)\n",
    "config = json.load(con_file)\n",
    "con_file.close()"
   ]
  },
  {
   "cell_type": "code",
   "execution_count": null,
   "metadata": {},
   "outputs": [],
   "source": [
    "## Initialize client\n",
    "client = ElsClient(config['apikey'])"
   ]
  },
  {
   "cell_type": "code",
   "execution_count": null,
   "metadata": {},
   "outputs": [],
   "source": [
    "selected_columns = ['dc:identifier', 'dc:title', 'dc:creator', 'prism:publicationName',\n",
    "                    'prism:coverDate', 'prism:aggregationType', 'subtypeDescription',\n",
    "                    'prism:doi', 'eid']"
   ]
  },
  {
   "cell_type": "code",
   "execution_count": null,
   "metadata": {},
   "outputs": [],
   "source": [
    "def convert_results_to_dataframe(results: list,\n",
    "                                 selected_columns=selected_columns\n",
    "                                 ) -> pd.DataFrame:\n",
    "    \"\"\"Convert results to dataframe.\"\"\"\n",
    "    logging.info(f'Converting {len(results)} results to dataframe.')\n",
    "    results_df = pd.DataFrame.from_records(results)\n",
    "    try:\n",
    "        results_df = results_df[selected_columns]\n",
    "        results_df = results_df.drop_duplicates(subset=['dc:identifier'])\n",
    "        results_df = results_df.reset_index(drop=True)\n",
    "        logging.info(\n",
    "            f'Number of deduplicated results stored in dataframe: {len(results_df)}')\n",
    "    except:\n",
    "        logging.info(f'Results not converted to dataframe\\\n",
    "                      (column names: {results_df.columns})')\n",
    "        results_df = pd.DataFrame(columns=selected_columns)\n",
    "    return results_df"
   ]
  },
  {
   "cell_type": "code",
   "execution_count": null,
   "metadata": {},
   "outputs": [],
   "source": [
    "def retrieve_results_from_query(query: str) -> pd.DataFrame:\n",
    "    \"\"\"Retrieve results from Scopus API.\"\"\"\n",
    "    logging.info(f'Retrieving results from Scopus API for query: {query}')\n",
    "    # Initialize document search object and execute search\n",
    "    doc_srch = ElsSearch(query, 'scopus')\n",
    "    doc_srch.execute(client, get_all=True)\n",
    "    # Retrieve results\n",
    "    results = doc_srch.results\n",
    "    logging.info(f'{len(results)} results retrieved from Scopus API.')\n",
    "    results_df = convert_results_to_dataframe(results)\n",
    "    if len(results_df) > 0:\n",
    "        results_df['localization_in_title_or_abstract'] = 'TITLE-ABS' in query\n",
    "    else:\n",
    "        results_df['localization_in_title_or_abstract'] = None\n",
    "    logging.info('Query results converted to dataframe.')\n",
    "    return results_df"
   ]
  },
  {
   "cell_type": "code",
   "execution_count": null,
   "metadata": {},
   "outputs": [],
   "source": [
    "def apply_further_transformations(\n",
    "        df: pd.DataFrame,\n",
    "        max_date: str = None,\n",
    "        ) -> pd.DataFrame:\n",
    "    \"\"\"Apply further transformations to dataframe.\"\"\"\n",
    "    logging.info('Applying further transformations to dataframe.')\n",
    "    if max_date:\n",
    "        df = df[df['prism:coverDate'] < max_date]\n",
    "    df['localization_in_title'] = df.copy()['dc:title'].str.contains(\n",
    "        '|'.join(cl.countries + cl.demonyms), case=False)\n",
    "    df.drop_duplicates(subset=['dc:identifier'], inplace=True)\n",
    "    df.reset_index(drop=True, inplace=True)\n",
    "    return df"
   ]
  },
  {
   "cell_type": "code",
   "execution_count": null,
   "metadata": {},
   "outputs": [],
   "source": [
    "def retrieve_results_from_list_of_queries(\n",
    "        list_of_queries: list[str],\n",
    "        file_name: str,\n",
    "        max_date: str,\n",
    "        ) -> pd.DataFrame:\n",
    "    \"\"\"Retrieve results from list of queries.\"\"\"\n",
    "    logging.info(f'Retrieving results from {len(list_of_queries)} queries.')\n",
    "    results_dfs = []\n",
    "    for query in list_of_queries:\n",
    "        results_df = retrieve_results_from_query(query)\n",
    "        results_dfs.append(results_df)\n",
    "    logging.info(f'Concatenating {len(results_dfs)} dataframes.')\n",
    "    results_df = pd.concat(results_dfs)\n",
    "    results_df = results_df.drop_duplicates(subset=['dc:identifier'])\n",
    "    results_df = results_df.reset_index(drop=True)\n",
    "    logging.info(\n",
    "        f'Number of deduplicated results in concatenated dataframe: {len(results_df)}')\n",
    "    results_df = apply_further_transformations(\n",
    "        results_df,\n",
    "        max_date=max_date)\n",
    "    results_df.to_csv(f'{h.project_dir}/data/{file_name}-{h.run_date}-{h.run_serial}.csv',\n",
    "                      index=False)\n",
    "    return results_df"
   ]
  },
  {
   "cell_type": "code",
   "execution_count": null,
   "metadata": {},
   "outputs": [],
   "source": [
    "mergoni_scopus_df = retrieve_results_from_list_of_queries(\n",
    "    list_of_queries=[q.mergoni_scopus_query],\n",
    "    file_name='mergoni_scopus',\n",
    "    max_date='2021-01-01')"
   ]
  },
  {
   "cell_type": "code",
   "execution_count": null,
   "metadata": {},
   "outputs": [],
   "source": [
    "mergoni_scopus_step_1_df = retrieve_results_from_list_of_queries(\n",
    "    list_of_queries=[q.mergoni_scopus_step_1_query],\n",
    "    file_name='mergoni_scopus_step_1',\n",
    "    max_date='2021-01-01')"
   ]
  },
  {
   "cell_type": "code",
   "execution_count": null,
   "metadata": {},
   "outputs": [],
   "source": [
    "mergoni_scopus_step_2_df__weird = retrieve_results_from_list_of_queries(\n",
    "    list_of_queries=q.mergoni_scopus_step_2_queries_weird,\n",
    "    file_name='mergoni_scopus_step_2__weird',\n",
    "    max_date='2021-02-01')"
   ]
  },
  {
   "cell_type": "code",
   "execution_count": null,
   "metadata": {},
   "outputs": [],
   "source": [
    "mergoni_scopus_step_2_df__non_weird = retrieve_results_from_list_of_queries(\n",
    "    list_of_queries=q.mergoni_scopus_step_2_queries_non_weird,\n",
    "    file_name='mergoni_scopus_step_2__non_weird',\n",
    "    max_date='2021-02-01')"
   ]
  }
 ],
 "metadata": {
  "kernelspec": {
   "display_name": ".venv",
   "language": "python",
   "name": "python3"
  },
  "language_info": {
   "codemirror_mode": {
    "name": "ipython",
    "version": 3
   },
   "file_extension": ".py",
   "mimetype": "text/x-python",
   "name": "python",
   "nbconvert_exporter": "python",
   "pygments_lexer": "ipython3",
   "version": "3.11.3"
  },
  "orig_nbformat": 4
 },
 "nbformat": 4,
 "nbformat_minor": 2
}
