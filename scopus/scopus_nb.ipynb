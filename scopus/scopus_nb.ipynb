{
 "cells": [
  {
   "cell_type": "code",
   "execution_count": 1,
   "metadata": {},
   "outputs": [],
   "source": [
    "from elsapy.elsclient import ElsClient\n",
    "from elsapy.elsprofile import ElsAuthor, ElsAffil\n",
    "from elsapy.elsdoc import FullDoc, AbsDoc\n",
    "from elsapy.elssearch import ElsSearch\n",
    "import json"
   ]
  },
  {
   "cell_type": "code",
   "execution_count": 2,
   "metadata": {},
   "outputs": [],
   "source": [
    "## Load configuration\n",
    "con_file = open(\"config.json\")\n",
    "config = json.load(con_file)\n",
    "con_file.close()"
   ]
  },
  {
   "cell_type": "code",
   "execution_count": 3,
   "metadata": {},
   "outputs": [],
   "source": [
    "## Initialize client\n",
    "client = ElsClient(config['apikey'])"
   ]
  },
  {
   "cell_type": "code",
   "execution_count": 4,
   "metadata": {},
   "outputs": [
    {
     "name": "stdout",
     "output_type": "stream",
     "text": [
      "Load documents (Y/N)?\n"
     ]
    }
   ],
   "source": [
    "## Load list of documents from the API into affilation and author objects.\n",
    "# Since a document list is retrieved for 25 entries at a time, this is\n",
    "#  a potentially lenghty operation - hence the prompt.\n",
    "print (\"Load documents (Y/N)?\")\n",
    "s = input('--> ')"
   ]
  },
  {
   "cell_type": "code",
   "execution_count": 4,
   "metadata": {},
   "outputs": [],
   "source": [
    "def load_documents(client, my_doc):\n",
    "    ## Read all documents for example author, then write to disk\n",
    "    if my_doc.read_docs(client):\n",
    "        print (\"my_auth.doc_list has \" + str(len(my_doc.doc_list)) + \" items.\")\n",
    "        my_doc.write_docs()\n",
    "    else:\n",
    "        print (\"Read docs failed.\")\n",
    "    return my_doc"
   ]
  },
  {
   "cell_type": "code",
   "execution_count": null,
   "metadata": {},
   "outputs": [],
   "source": [
    "mergoni_query = 'ALL(“data envelopment analysis”) AND \\\n",
    "    ALL(“policy evaluation”) \\\n",
    "        AND PUBYEAR > 1956 \\\n",
    "            AND PUBYEAR < 2022 AND \\\n",
    "                LANGUAGE(english)'"
   ]
  },
  {
   "cell_type": "code",
   "execution_count": null,
   "metadata": {},
   "outputs": [],
   "source": [
    "mergoni_query_step_1 = 'ALL(“data envelopment analysis”) AND \\\n",
    "    ALL(“policy evaluation”) \\\n",
    "        AND PUBYEAR > 1956 \\\n",
    "            AND PUBYEAR < 2022'"
   ]
  },
  {
   "cell_type": "code",
   "execution_count": null,
   "metadata": {},
   "outputs": [],
   "source": [
    "mergoni_query_step_1 = 'ALL(“data envelopment analysis”) AND \\\n",
    "    ALL(“policy evaluation”) \\\n",
    "        AND PUBYEAR > 1956 \\\n",
    "            AND PUBYEAR < 2022'"
   ]
  },
  {
   "cell_type": "code",
   "execution_count": 6,
   "metadata": {},
   "outputs": [
    {
     "name": "stdout",
     "output_type": "stream",
     "text": [
      "doc_srch has 17950 results.\n"
     ]
    }
   ],
   "source": [
    "## Initialize doc search object using Scopus and execute search, retrieving \n",
    "#   all results\n",
    "doc_srch = ElsSearch('ALL(“data envelopment analysis”) AND ALL(“policy evaluation”) AND PUBYEAR > 1956 AND PUBYEAR < 2022','scopus')\n",
    "doc_srch.execute(client, get_all = True)\n",
    "print (\"doc_srch has\", len(doc_srch.results), \"results.\")"
   ]
  },
  {
   "cell_type": "code",
   "execution_count": null,
   "metadata": {},
   "outputs": [],
   "source": []
  }
 ],
 "metadata": {
  "kernelspec": {
   "display_name": ".venv",
   "language": "python",
   "name": "python3"
  },
  "language_info": {
   "codemirror_mode": {
    "name": "ipython",
    "version": 3
   },
   "file_extension": ".py",
   "mimetype": "text/x-python",
   "name": "python",
   "nbconvert_exporter": "python",
   "pygments_lexer": "ipython3",
   "version": "3.11.3"
  },
  "orig_nbformat": 4
 },
 "nbformat": 4,
 "nbformat_minor": 2
}
