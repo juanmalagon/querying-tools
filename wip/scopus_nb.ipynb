{
 "cells": [
  {
   "cell_type": "code",
   "execution_count": null,
   "metadata": {},
   "outputs": [],
   "source": [
    "%rm ../main.log\n",
    "%rm ../dump.json"
   ]
  },
  {
   "cell_type": "markdown",
   "metadata": {},
   "source": [
    "Define environment variables and handler"
   ]
  },
  {
   "cell_type": "code",
   "execution_count": null,
   "metadata": {},
   "outputs": [],
   "source": [
    "%run ../env_variables.py"
   ]
  },
  {
   "cell_type": "markdown",
   "metadata": {},
   "source": [
    "Import required libraries"
   ]
  },
  {
   "cell_type": "code",
   "execution_count": null,
   "metadata": {},
   "outputs": [],
   "source": [
    "import logging\n",
    "\n",
    "from utils import handler as h\n",
    "import utils.queries as q\n",
    "import utils.scopus_functions as f\n",
    "import utils.examples as ex\n",
    "import utils.query_helpers as qh"
   ]
  },
  {
   "cell_type": "code",
   "execution_count": null,
   "metadata": {},
   "outputs": [],
   "source": [
    "# Set up logging\n",
    "\n",
    "# create logger with 'main'\n",
    "logger = logging.getLogger('main')\n",
    "logger.setLevel(logging.DEBUG)\n",
    "# create file handler which logs even debug messages\n",
    "fh = logging.FileHandler('main.log')\n",
    "fh.setLevel(logging.DEBUG)\n",
    "# create console handler with a higher log level\n",
    "ch = logging.StreamHandler()\n",
    "ch.setLevel(logging.ERROR)\n",
    "# create formatter and add it to the handlers\n",
    "# formatter = logging.Formatter('%(asctime)s - %(name)s - %(levelname)s - %(message)s')\n",
    "formatter = logging.Formatter('%(asctime)s - [%(module)s|%(funcName)s] - %(levelname)s - %(message)s')\n",
    "fh.setFormatter(formatter)\n",
    "ch.setFormatter(formatter)\n",
    "# add the handlers to the logger\n",
    "logger.addHandler(fh)\n",
    "logger.addHandler(ch)"
   ]
  },
  {
   "cell_type": "code",
   "execution_count": null,
   "metadata": {},
   "outputs": [],
   "source": [
    "import pandas as pd\n",
    "\n",
    "pd.options.display.max_colwidth = 1_000\n",
    "pd.options.display.max_columns = 1_000"
   ]
  },
  {
   "cell_type": "code",
   "execution_count": null,
   "metadata": {},
   "outputs": [],
   "source": [
    "# author = 'mergoni'\n",
    "max_date = '2021-02-01'\n",
    "# file_name_prefix = author + '_scopus_'"
   ]
  },
  {
   "cell_type": "markdown",
   "metadata": {},
   "source": [
    "## Retrieve original results from Scopus API"
   ]
  },
  {
   "cell_type": "code",
   "execution_count": null,
   "metadata": {},
   "outputs": [],
   "source": [
    "example_query = ex.mergoni_2021_scopus_query"
   ]
  },
  {
   "cell_type": "code",
   "execution_count": null,
   "metadata": {},
   "outputs": [],
   "source": [
    "example_query"
   ]
  },
  {
   "cell_type": "code",
   "execution_count": null,
   "metadata": {},
   "outputs": [],
   "source": [
    "original_df = f.retrieve_results_from_list_of_queries(\n",
    "    list_of_queries = [example_query],\n",
    "    max_date = max_date)"
   ]
  },
  {
   "cell_type": "code",
   "execution_count": null,
   "metadata": {},
   "outputs": [],
   "source": [
    "# Drop the column of localization in title, abstract or keywords\n",
    "# because this data has not yet been retrieved\n",
    "original_df.drop(\n",
    "    columns=['localization_in_title_abstract_or_key'],\n",
    "    inplace=True)"
   ]
  },
  {
   "cell_type": "code",
   "execution_count": null,
   "metadata": {},
   "outputs": [],
   "source": [
    "print(f'Lenght of original df: {len(original_df)}')"
   ]
  },
  {
   "cell_type": "markdown",
   "metadata": {},
   "source": [
    "## Retrieve results after applying language-bias-helper"
   ]
  },
  {
   "cell_type": "code",
   "execution_count": null,
   "metadata": {},
   "outputs": [],
   "source": [
    "lang_bias_helper_df = f.retrieve_results_from_list_of_queries(\n",
    "    list_of_queries = [qh.language_bias_tool(example_query)],\n",
    "    max_date = max_date)"
   ]
  },
  {
   "cell_type": "code",
   "execution_count": null,
   "metadata": {},
   "outputs": [],
   "source": [
    "# Drop the column of localization in title, abstract or keywords\n",
    "# because this data has not yet been retrieved\n",
    "lang_bias_helper_df.drop(\n",
    "    columns=['localization_in_title_abstract_or_key'],\n",
    "    inplace=True)"
   ]
  },
  {
   "cell_type": "code",
   "execution_count": null,
   "metadata": {},
   "outputs": [],
   "source": [
    "print(f'Lenght of original df: {len(original_df)}')\n",
    "print(f'Lenght of language-bias-helper df: {len(lang_bias_helper_df)}')"
   ]
  },
  {
   "cell_type": "markdown",
   "metadata": {},
   "source": [
    "## Results after applying publication-bias-helper"
   ]
  },
  {
   "cell_type": "code",
   "execution_count": null,
   "metadata": {},
   "outputs": [],
   "source": [
    "pub_bias_helper_df = f.retrieve_results_from_list_of_queries(\n",
    "    list_of_queries = [qh.publication_bias_tool(example_query)],\n",
    "    max_date = max_date)"
   ]
  },
  {
   "cell_type": "code",
   "execution_count": null,
   "metadata": {},
   "outputs": [],
   "source": [
    "print(f'Lenght of original df: {len(original_df)}')\n",
    "print(f'Lenght of publication-bias-helper df: {len(pub_bias_helper_df)}')"
   ]
  },
  {
   "cell_type": "code",
   "execution_count": null,
   "metadata": {},
   "outputs": [],
   "source": [
    "pub_bias_helper_df['prism:aggregationType'].value_counts()"
   ]
  },
  {
   "cell_type": "markdown",
   "metadata": {},
   "source": [
    "## Analyze results with the localization-bias-helper"
   ]
  },
  {
   "cell_type": "code",
   "execution_count": null,
   "metadata": {},
   "outputs": [],
   "source": [
    "local_bias_helper_df__weird = f.retrieve_results_from_list_of_queries(\n",
    "    list_of_queries = q.scopus_local_bias_helper_queries_weird,\n",
    "    max_date = max_date)"
   ]
  },
  {
   "cell_type": "code",
   "execution_count": null,
   "metadata": {},
   "outputs": [],
   "source": [
    "local_bias_helper_df__non_weird = f.retrieve_results_from_list_of_queries(\n",
    "    list_of_queries = q.scopus_local_bias_helper_queries_non_weird,\n",
    "    max_date = max_date)"
   ]
  },
  {
   "cell_type": "code",
   "execution_count": null,
   "metadata": {},
   "outputs": [],
   "source": [
    "local_bias_helper_df_intersection = local_bias_helper_df__weird[\n",
    "    local_bias_helper_df__weird['dc:identifier'].isin(\n",
    "        local_bias_helper_df__non_weird['dc:identifier'])]"
   ]
  },
  {
   "cell_type": "code",
   "execution_count": null,
   "metadata": {},
   "outputs": [],
   "source": [
    "local_bias_helper_df_intersection['dc:title']"
   ]
  },
  {
   "cell_type": "code",
   "execution_count": null,
   "metadata": {},
   "outputs": [],
   "source": [
    "# Remove false positive from WEIRD table\n",
    "local_bias_helper_df__weird_curated = local_bias_helper_df__weird.drop(\n",
    "    index=14).reset_index(drop=True)"
   ]
  },
  {
   "cell_type": "code",
   "execution_count": null,
   "metadata": {},
   "outputs": [],
   "source": [
    "local_bias_helper_df = pd.concat(\n",
    "    [local_bias_helper_df__weird_curated,\n",
    "     local_bias_helper_df__non_weird]\n",
    "     ).drop_duplicates()"
   ]
  },
  {
   "cell_type": "code",
   "execution_count": null,
   "metadata": {},
   "outputs": [],
   "source": [
    "original_df_with_localization = pd.merge(\n",
    "    original_df,\n",
    "    local_bias_helper_df,\n",
    "    how='left',\n",
    "    on=original_df.columns.to_list()\n",
    "    ).fillna(False)"
   ]
  },
  {
   "cell_type": "code",
   "execution_count": null,
   "metadata": {},
   "outputs": [],
   "source": [
    "original_df_with_localization.agg(\n",
    "    {'localization_in_title_abstract_or_key': ['sum', 'count'],\n",
    "     'localization_in_title': ['sum', 'count'],\n",
    "     }\n",
    ")"
   ]
  },
  {
   "cell_type": "code",
   "execution_count": null,
   "metadata": {},
   "outputs": [],
   "source": [
    "local_bias_helper_df__weird_curated.agg(\n",
    "    {'localization_in_title_abstract_or_key': ['sum', 'count'],\n",
    "     'localization_in_title': ['sum', 'count'],\n",
    "     }\n",
    ")"
   ]
  },
  {
   "cell_type": "code",
   "execution_count": null,
   "metadata": {},
   "outputs": [],
   "source": [
    "local_bias_helper_df__non_weird.agg(\n",
    "    {'localization_in_title_abstract_or_key': ['sum', 'count'],\n",
    "     'localization_in_title': ['sum', 'count'],\n",
    "     }\n",
    ")"
   ]
  },
  {
   "cell_type": "markdown",
   "metadata": {},
   "source": [
    "## Results after applying availability-bias-helper"
   ]
  },
  {
   "cell_type": "code",
   "execution_count": null,
   "metadata": {},
   "outputs": [],
   "source": [
    "open_access_df = original_df_with_localization[original_df_with_localization['openaccess'] == 1]\n",
    "closed_access_df = original_df_with_localization[original_df_with_localization['openaccess'] == 0]"
   ]
  },
  {
   "cell_type": "code",
   "execution_count": null,
   "metadata": {},
   "outputs": [],
   "source": [
    "print(f'Lenght of open access df: {len(open_access_df)}')\n",
    "print(f'Lenght of closed access df: {len(closed_access_df)}')"
   ]
  },
  {
   "cell_type": "code",
   "execution_count": null,
   "metadata": {},
   "outputs": [],
   "source": [
    "# lang_bias_helper_df"
   ]
  },
  {
   "cell_type": "code",
   "execution_count": null,
   "metadata": {},
   "outputs": [],
   "source": [
    "# local_bias_helper__non_weird_new_records_df = local_bias_helper_df__non_weird[\n",
    "#     ~local_bias_helper_df__non_weird['dc:identifier'].isin(original_df['dc:identifier'])\n",
    "#     ].copy().reset_index(drop=True)"
   ]
  },
  {
   "cell_type": "code",
   "execution_count": null,
   "metadata": {},
   "outputs": [],
   "source": [
    "# local_bias_helper__weird_new_records_df = local_bias_helper_df__weird[\n",
    "#     ~local_bias_helper_df__weird['dc:identifier'].isin(original_df['dc:identifier'])\n",
    "#     ].copy().reset_index(drop=True)"
   ]
  },
  {
   "cell_type": "code",
   "execution_count": null,
   "metadata": {},
   "outputs": [],
   "source": [
    "# df_dict = {\n",
    "#     'original': original_df,\n",
    "#     'lang_bias_helper': lang_bias_helper_df,\n",
    "#     'local_bias_helper__non_weird': local_bias_helper_df__non_weird,\n",
    "#     'local_bias_helper__weird': local_bias_helper_df__weird,\n",
    "#     'lang_bias_helper_new_records': lang_bias_helper_new_records_df,\n",
    "#     'local_bias_helper__non_weird_new_records': local_bias_helper__non_weird_new_records_df,\n",
    "#     'local_bias_helper__weird_new_records': local_bias_helper__weird_new_records_df\n",
    "#     }"
   ]
  },
  {
   "cell_type": "code",
   "execution_count": null,
   "metadata": {},
   "outputs": [],
   "source": [
    "# if h.save_to_csv:\n",
    "#     f.export_to_csv(original_df, file_name_prefix + 'original')\n",
    "#     f.export_to_csv(lang_bias_helper_df, file_name_prefix + 'lang_bias_helper')\n",
    "#     f.export_to_csv(local_bias_helper_df__weird, file_name_prefix + 'local_bias_helper__weird')\n",
    "#     f.export_to_csv(local_bias_helper_df__non_weird, file_name_prefix + 'local_bias_helper__non_weird')\n",
    "#     f.export_to_csv(lang_bias_helper_new_records_df, file_name_prefix + 'lang_bias_helper_new_records')\n",
    "#     f.export_to_csv(local_bias_helper__non_weird_new_records_df,\n",
    "#                     file_name_prefix + 'local_bias_helper__non_weird_new_records')\n",
    "#     f.export_to_csv(local_bias_helper__weird_new_records_df,\n",
    "#                     file_name_prefix + 'local_bias_helper__weird_new_records')"
   ]
  }
 ],
 "metadata": {
  "kernelspec": {
   "display_name": ".venv",
   "language": "python",
   "name": "python3"
  },
  "language_info": {
   "codemirror_mode": {
    "name": "ipython",
    "version": 3
   },
   "file_extension": ".py",
   "mimetype": "text/x-python",
   "name": "python",
   "nbconvert_exporter": "python",
   "pygments_lexer": "ipython3",
   "version": "3.11.3"
  },
  "orig_nbformat": 4
 },
 "nbformat": 4,
 "nbformat_minor": 2
}
