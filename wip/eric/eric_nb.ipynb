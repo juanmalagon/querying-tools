{
 "cells": [
  {
   "cell_type": "code",
   "execution_count": null,
   "metadata": {},
   "outputs": [],
   "source": [
    "import numpy as np \n",
    "import pandas as pd \n",
    "import requests \n",
    "import json\n",
    "import time\n",
    "import matplotlib.pyplot as plt \n",
    "import seaborn as sns \n",
    "sns.set()"
   ]
  },
  {
   "cell_type": "code",
   "execution_count": null,
   "metadata": {},
   "outputs": [],
   "source": [
    "def getEricRecords(search, fields = None, start=0, rows=200):\n",
    "    url = 'https://api.ies.ed.gov/eric/?'\n",
    "    url = url + 'search=' + search + '&rows=' + str(rows) + '&format=json&start=' + str(start) \n",
    "    if(fields):\n",
    "        url = url + '&fields=' + ', '.join(fields)\n",
    "    responseJson = requests.get(url).json() \n",
    "    return pd.DataFrame(responseJson)"
   ]
  },
  {
   "cell_type": "code",
   "execution_count": null,
   "metadata": {},
   "outputs": [],
   "source": [
    "def getRecordCount(search):\n",
    "    dataFrame = getEricRecords(search)\n",
    "    totalRecords = dataFrame.loc['numFound'][0]\n",
    "    print('Search', search, 'returned', '{:,}'.format(totalRecords), 'records') \n",
    "    return totalRecords"
   ]
  },
  {
   "cell_type": "code",
   "execution_count": null,
   "metadata": {},
   "outputs": [],
   "source": [
    "def cleanElementsUsingList(x): \n",
    "    if(not isinstance(x, list)):\n",
    "        return x\n",
    "    if(not x or (len(x) == 1 and x[0] == '')):\n",
    "        return None \n",
    "    return ', '.join(x)"
   ]
  },
  {
   "cell_type": "code",
   "execution_count": null,
   "metadata": {},
   "outputs": [],
   "source": [
    "def getAllEricRecords(search, fields = None, cleanElements = True): \n",
    "    startTime = time.time()\n",
    "    nextFirstRecord = 0\n",
    "    numRecordsReturnedEachApiCall = 200\n",
    "    totalRecords = getRecordCount(search) \n",
    "    if(totalRecords == 0):\n",
    "        print ('Search', search, 'has no results') \n",
    "        return []\n",
    "    while(nextFirstRecord < totalRecords):\n",
    "        dataFrame = getEricRecords(search, fields, nextFirstRecord) \n",
    "        if(nextFirstRecord == 0):\n",
    "            records = pd.DataFrame(dataFrame.loc['docs'][0]) \n",
    "        else:\n",
    "            records = pd.concat([records, pd.DataFrame(dataFrame.loc['docs'][0])], sort=False, ignore_index=True) \n",
    "        nextFirstRecord += numRecordsReturnedEachApiCall\n",
    "    print('took', '{:,.1f}'.format(time.time() - startTime), 'seconds')\n",
    "    return records.applymap(cleanElementsUsingList) if cleanElements else records"
   ]
  },
  {
   "cell_type": "code",
   "execution_count": null,
   "metadata": {},
   "outputs": [],
   "source": [
    "search = 'subject:autism AND subject:”teaching methods” AND publicationdateyear:2019'\n",
    "records = getAllEricRecords(search)\n",
    "records"
   ]
  },
  {
   "cell_type": "code",
   "execution_count": null,
   "metadata": {},
   "outputs": [],
   "source": [
    "records.info()"
   ]
  },
  {
   "cell_type": "code",
   "execution_count": null,
   "metadata": {},
   "outputs": [],
   "source": [
    "allEricFields = ['id', 'title', 'author', 'source', 'publicationdateyear', 'description',\n",
    "                     'subject', 'peerreviewed', 'abstractor', 'audience', 'authorxlink',\n",
    "                     'e_datemodified', 'e_fulltextauth', 'e_yearadded', 'educationlevel',\n",
    "                     'identifiersgeo', 'identifierslaw', 'identifierstest', 'iescited',\n",
    "                     'iesfunded', 'iesgrantcontractnum', 'iesgrantcontractnumxlink',\n",
    "                     'ieslinkpublication', 'ieslinkwwcreviewguide', 'ieswwcreviewed',\n",
    "                     'institution', 'isbn', 'issn', 'language', 'publicationtype',\n",
    "                     'publisher', 'sourceid', 'sponsor', 'url']\n",
    "print('There are', len(allEricFields), 'possible fields in the ERIC API response')"
   ]
  },
  {
   "cell_type": "code",
   "execution_count": null,
   "metadata": {},
   "outputs": [],
   "source": [
    "search = 'subject:autism AND subject:”teaching methods” AND publicationdateyear:2019'\n",
    "records = getAllEricRecords(search, allEricFields)"
   ]
  },
  {
   "cell_type": "code",
   "execution_count": null,
   "metadata": {},
   "outputs": [],
   "source": [
    "records.head()"
   ]
  },
  {
   "cell_type": "code",
   "execution_count": null,
   "metadata": {},
   "outputs": [],
   "source": [
    "records.info()"
   ]
  },
  {
   "cell_type": "code",
   "execution_count": null,
   "metadata": {},
   "outputs": [],
   "source": [
    "# records.to_excel('ERIC records for autism and teaching methods in 2019.xlsx')"
   ]
  },
  {
   "cell_type": "code",
   "execution_count": null,
   "metadata": {},
   "outputs": [],
   "source": []
  }
 ],
 "metadata": {
  "kernelspec": {
   "display_name": ".venv",
   "language": "python",
   "name": "python3"
  },
  "language_info": {
   "codemirror_mode": {
    "name": "ipython",
    "version": 3
   },
   "file_extension": ".py",
   "mimetype": "text/x-python",
   "name": "python",
   "nbconvert_exporter": "python",
   "pygments_lexer": "ipython3",
   "version": "3.11.3"
  },
  "orig_nbformat": 4
 },
 "nbformat": 4,
 "nbformat_minor": 2
}
